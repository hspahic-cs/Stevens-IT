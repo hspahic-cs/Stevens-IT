{
 "cells": [
  {
   "cell_type": "code",
   "execution_count": 2,
   "metadata": {},
   "outputs": [],
   "source": [
    "from string import ascii_letters\n",
    "import numpy as np\n",
    "import matplotlib.pyplot as plt\n",
    "import binascii"
   ]
  },
  {
   "cell_type": "code",
   "execution_count": 3,
   "metadata": {},
   "outputs": [],
   "source": [
    "with open(\"3a-ciphertext.txt\", \"r\") as f:\n",
    "    ciphertexts = f.readlines()\n",
    "    hex_ciphertexts = [ciphertext[:-1] for ciphertext in ciphertexts]\n",
    "    f.close()"
   ]
  },
  {
   "cell_type": "code",
   "execution_count": 4,
   "metadata": {},
   "outputs": [
    {
     "name": "stdout",
     "output_type": "stream",
     "text": [
      "000d16251c07044b36171c0307280858291403500a2003450029001e5930070e52\n",
      "66\n"
     ]
    }
   ],
   "source": [
    "print(hex_ciphertexts[0])\n",
    "print(len(hex_ciphertexts[0]))"
   ]
  },
  {
   "cell_type": "code",
   "execution_count": 5,
   "metadata": {},
   "outputs": [
    {
     "name": "stdout",
     "output_type": "stream",
     "text": [
      "(['~', 'b', '\\x7f', 'r', ' '], 0)\n",
      "(['v', 'b', 'p', 'm', '\"'], 1)\n",
      "(['v', 'm', 'o', 'o', '>'], 2)\n",
      "(['y', 'r', 'm', 's', ' '], 3)\n",
      "(['f', 'p', 'q', 'm', '\\x1b'], 4)\n",
      "(['d', 'l', 'o', 'V', '\\x11'], 5)\n",
      "(['x', 'r', 'T', '\\\\', '\\x03'], 6)\n",
      "(['f', 'I', '^', 'N', 't'], 7)\n",
      "([']', 'C', 'L', '9', ' '], 8)\n",
      "(['W', 'Q', ';', 'm', '='], 9)\n",
      "(['E', '&', 'o', 'p', 'g'], 10)\n",
      "(['2', 'r', 'r', '*', 'p'], 11)\n",
      "(['f', 'o', '(', '=', '&'], 12)\n",
      "(['{', '5', '?', 'k', '3'], 13)\n",
      "(['!', '\"', 'i', '~', '('], 14)\n",
      "(['6', 't', '|', 'e', 'e'], 15)\n",
      "(['`', 'a', 'g', '(', ':'], 16)\n",
      "(['u', 'z', '*', 'w', ';'], 17)\n",
      "(['n', '7', 'u', 'v', '9'], 18)\n",
      "(['#', 'h', 't', 't', 'y'], 19)\n",
      "(['|', 'i', 'v', '4', 'r'], 20)\n",
      "(['}', 'k', '6', '?', '6'], 21)\n",
      "(['\\x7f', '+', '=', '{', '$'], 22)\n",
      "(['?', ' ', 'y', 'i', \"'\"], 23)\n",
      "(['4', 'd', 'k', 'j', 'r'], 24)\n",
      "(['p', 'v', 'h', '?', '1'], 25)\n",
      "(['b', 'u', '=', '|', '<'], 26)\n",
      "(['a', ' ', '~', 'q', 'i'], 27)\n"
     ]
    }
   ],
   "source": [
    "def decrypt(msg, c1, c2):\n",
    "    hex_msg = msg.encode('ascii').hex()\n",
    "    shifts = 33 - len(msg)\n",
    "\n",
    "    results = []\n",
    "    for x in range(shifts):\n",
    "        xor_result = []\n",
    "        for i in range(len(msg)):\n",
    "            c1_chunk = c1[(x+i)*2:(x+i+1)*2]\n",
    "            c2_chunk = c2[(x+i)*2:(x+i+1)*2]\n",
    "            hex_chunk = hex_msg[i*2:(i+1)*2]\n",
    "            #print(c1_chunk + \" \" + c2_chunk + \" \" + hex_chunk)\n",
    "            xor_result.append(hex(int(c1_chunk,16) ^ int(c2_chunk,16) ^ int(hex_chunk, 16)))\n",
    "        \n",
    "        str_result = []\n",
    "        for e in xor_result:\n",
    "            if(len(e) == 3):\n",
    "                e = e[:2] + '0' + e[2:]\n",
    "            try:\n",
    "                bytes_object = bytes.fromhex(e[2:])\n",
    "            except:\n",
    "                print(f\"{e} ~ {i}\")\n",
    "            str_chunk = bytes_object.decode(\"ASCII\")\n",
    "            str_result.append(str_chunk)\n",
    "\n",
    "        results.append((str_result, x))\n",
    "    \n",
    "    for result in results:\n",
    "        print(f\"{result}\")\n",
    "\n",
    "decrypt(\"from \", ciphertexts[0], ciphertexts[6])"
   ]
  },
  {
   "cell_type": "code",
   "execution_count": 6,
   "metadata": {},
   "outputs": [
    {
     "name": "stdout",
     "output_type": "stream",
     "text": [
      "<class 'str'>\n"
     ]
    },
    {
     "ename": "TypeError",
     "evalue": "'str' object cannot be interpreted as an integer",
     "output_type": "error",
     "traceback": [
      "\u001b[1;31m---------------------------------------------------------------------------\u001b[0m",
      "\u001b[1;31mTypeError\u001b[0m                                 Traceback (most recent call last)",
      "\u001b[1;32mc:\\Users\\Bikeh\\OneDrive\\Desktop\\PrgmProjects\\University\\CS396\\Hw1\\3a.ipynb Cell 5\u001b[0m in \u001b[0;36m<cell line: 7>\u001b[1;34m()\u001b[0m\n\u001b[0;32m      <a href='vscode-notebook-cell:/c%3A/Users/Bikeh/OneDrive/Desktop/PrgmProjects/University/CS396/Hw1/3a.ipynb#W4sZmlsZQ%3D%3D?line=6'>7</a>\u001b[0m \u001b[39mfor\u001b[39;00m i \u001b[39min\u001b[39;00m \u001b[39mrange\u001b[39m(days):\n\u001b[0;32m      <a href='vscode-notebook-cell:/c%3A/Users/Bikeh/OneDrive/Desktop/PrgmProjects/University/CS396/Hw1/3a.ipynb#W4sZmlsZQ%3D%3D?line=7'>8</a>\u001b[0m     \u001b[39mprint\u001b[39m(\u001b[39mtype\u001b[39m(newKey))\n\u001b[1;32m----> <a href='vscode-notebook-cell:/c%3A/Users/Bikeh/OneDrive/Desktop/PrgmProjects/University/CS396/Hw1/3a.ipynb#W4sZmlsZQ%3D%3D?line=8'>9</a>\u001b[0m     newKey \u001b[39m=\u001b[39m sha256(\u001b[39mbytes\u001b[39m\u001b[39m.\u001b[39mfromhex(\u001b[39mhex\u001b[39;49m(newKey))) \u001b[39m#+ '21'\u001b[39;00m\n\u001b[0;32m     <a href='vscode-notebook-cell:/c%3A/Users/Bikeh/OneDrive/Desktop/PrgmProjects/University/CS396/Hw1/3a.ipynb#W4sZmlsZQ%3D%3D?line=10'>11</a>\u001b[0m \u001b[39mprint\u001b[39m(newKey)\n",
      "\u001b[1;31mTypeError\u001b[0m: 'str' object cannot be interpreted as an integer"
     ]
    }
   ],
   "source": [
    "from hashlib import sha256\n",
    "key = '746865517569636b42726f776e466f784a756d70734f7665724c617a79446f6721'\n",
    "\n",
    "#Days between Oct.4 and Oct.25\n",
    "days = 21\n",
    "newKey = key\n",
    "print()\n",
    "\n",
    "# for i in range(days):\n",
    "#     print(type(newKey))\n",
    "#     newKey = sha256(bytes.fromhex(hex(newKey))) #+ '21'\n",
    "\n",
    "print(newKey)"
   ]
  }
 ],
 "metadata": {
  "kernelspec": {
   "display_name": "Python 3.10.3 64-bit",
   "language": "python",
   "name": "python3"
  },
  "language_info": {
   "codemirror_mode": {
    "name": "ipython",
    "version": 3
   },
   "file_extension": ".py",
   "mimetype": "text/x-python",
   "name": "python",
   "nbconvert_exporter": "python",
   "pygments_lexer": "ipython3",
   "version": "3.10.3 (tags/v3.10.3:a342a49, Mar 16 2022, 13:07:40) [MSC v.1929 64 bit (AMD64)]"
  },
  "orig_nbformat": 4,
  "vscode": {
   "interpreter": {
    "hash": "9e834c766db204c9571839f0206561d5c6d6e6edd627b948199edd5046cb1df7"
   }
  }
 },
 "nbformat": 4,
 "nbformat_minor": 2
}
