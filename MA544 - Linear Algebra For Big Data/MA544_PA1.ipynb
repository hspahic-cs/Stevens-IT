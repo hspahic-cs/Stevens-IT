{
 "cells": [
  {
   "cell_type": "markdown",
   "metadata": {},
   "source": [
    "# Programming Assignment - 1\n",
    "---"
   ]
  },
  {
   "cell_type": "markdown",
   "metadata": {},
   "source": [
    "## Question 1 \n",
    "Write a function trace1D() that finds the trace of a matrix given by a one dimensional NumPy array. You can not use the built-in function np.trace() or any other builtin function in any way. \n",
    "\n",
    "Display the output of the follwing\n",
    "print(“Trace of the suggested matrix is: {}”.format(trace1D(np.arange(0,100,1))))"
   ]
  },
  {
   "cell_type": "code",
   "execution_count": 2,
   "metadata": {},
   "outputs": [],
   "source": [
    "# import statements\n",
    "import numpy as np\n",
    "import math\n",
    "import sys\n",
    "\n",
    "# Write your function here\n",
    "def trace1D(mat1D):\n",
    "    array_len = mat1D.shape[0]\n",
    "    print(\"You have provided an array of length \",array_len)\n",
    "    n = math.ceil (math.sqrt(array_len))\n",
    "    \n",
    "    # Check if you have sufficient number of elements to form a square matrix\n",
    "    if n > math.sqrt(array_len):\n",
    "        # sys.exit(message) raises an exception too\n",
    "        print(\"Please provide sufficient number of elements for a square matrix. System exit.\")\n",
    "        sys.exit()\n",
    "    \n",
    "    # Sum of the elements that will appear in the diagonal to give the trace\n",
    "    sum = 0.0\n",
    "    for k in range(n):\n",
    "        sum += mat1D[k * (n + 1)]#Your code here\n",
    "    return sum\n",
    "    "
   ]
  },
  {
   "cell_type": "code",
   "execution_count": 7,
   "metadata": {},
   "outputs": [
    {
     "name": "stdout",
     "output_type": "stream",
     "text": [
      "You have provided an array of length  144\n",
      "Trace of the suggested matrix is: 858.0\n"
     ]
    }
   ],
   "source": [
    "# Show the output of the following\n",
    "print(\"Trace of the suggested matrix is: {}\".format(trace1D(np.arange(0, 144,1))))"
   ]
  },
  {
   "cell_type": "markdown",
   "metadata": {},
   "source": [
    "## Question 2\n",
    "\n",
    "Read an appropriate RGB-image of your choice in a 3-D Tensor named myRGB. \n",
    "\n",
    "Perform the following operations on this tensor: \n",
    "\n",
    "(A) Pad the image by 50 pixels on all sides. This operation is akin to putting  a dark frame around the image. Display this RGB image."
   ]
  },
  {
   "cell_type": "code",
   "execution_count": null,
   "metadata": {},
   "outputs": [],
   "source": [
    "# Follow the example from class. Modify it to the case of color images."
   ]
  },
  {
   "cell_type": "markdown",
   "metadata": {},
   "source": [
    "(B) Use a sliding window of a 3x3 matrix, K (referred to as a kernel), to perform an operation called convolution on the original image. Display some of these images after convolution. \n",
    "\n",
    "Note that you only need to use appropriate slicing of the source image, element wise product, and np.sum in loops to perform this. \n",
    "\n",
    "Display the images after convolutions using K=[1 0 -1;0 0 0;-1 0 1] and K = [0 -1 0; -1 4 -1; 0 -1 0]. Describe what these convolutions have achieved. \n",
    "\n",
    "To know more about convolution and how to achieve it, read Section 9.2 in https://www.deeplearningbook.org/contents/convnets.html.\n",
    "\n",
    "Here is another resource on convolution: https://developer.apple.com/library/archive/documentation/Performance/Conceptual/vImage/ConvolutionOperations/ConvolutionOperations.html"
   ]
  },
  {
   "cell_type": "markdown",
   "metadata": {},
   "source": [
    "\n"
   ]
  },
  {
   "cell_type": "code",
   "execution_count": null,
   "metadata": {},
   "outputs": [],
   "source": [
    "# Work with a B&W image.\n",
    "myGray = # convert myRGB to monochromic\n",
    "# Create a padded image from myGray by padding one pixel on all sides. Why?\n",
    "myGray_padded =  # Do it on myGray a B&W image\n",
    "\n",
    "# If the convoluted image is called myGray_conv\n",
    "myGray_conv = np.zeros_like(myGray)\n",
    "\n",
    "# Python code for convolution that needs modification by you.\n",
    "m,n= # Find dimension of the image\n",
    "K= # Take appropriate Kernel\n",
    "for i in range(m):\n",
    "    for j in range(n):\n",
    "        # Take appropriate slice of myGray_padded to get a (3x3) window on the image\n",
    "        myGray_window =  # Your code here\n",
    "        # CODE for finding the i,j-th pixel on the convoluted image\n",
    "        myGray_conv[i,j] = # Your code here\n",
    "\n",
    "# Display the convoluted image"
   ]
  },
  {
   "cell_type": "raw",
   "metadata": {},
   "source": [
    "Your Observations?"
   ]
  },
  {
   "cell_type": "markdown",
   "metadata": {},
   "source": [
    "## Question 3\n",
    "IRIS flower dataset is one of the widely used resources. Load the IRIS data by using the code below. \n",
    "Normalize this data by using z-scoring (z  = (x - x_mean)/std). Don't use loops. You can use np.mean(), np.std() and basic matrix operation with broadcasting. Visualize the distribution of this data using Matplotlib or other packages. "
   ]
  },
  {
   "cell_type": "code",
   "execution_count": null,
   "metadata": {},
   "outputs": [],
   "source": [
    "# Python code\n",
    "from sklearn import datasets\n",
    "iris = datasets.load_iris().data"
   ]
  },
  {
   "cell_type": "code",
   "execution_count": null,
   "metadata": {},
   "outputs": [],
   "source": [
    "# Your code here"
   ]
  },
  {
   "cell_type": "markdown",
   "metadata": {},
   "source": [
    "## Question 4\n",
    "Modify the textual data example from NB1 to convert the document-term matrix into TF-IDF (term-frequency inverse document frequency) matrix by using basic NumPy operations.\n",
    "> **Term-frequency (TF)** (of a word in a document) is frequency of the word in a document divided by total number of words in the document.\n",
    "\n",
    "> **Inverse document frequency (IDF)** of a word (all documents under consideration) is the natural log of (total number of documents/number of documents having the given word).\n",
    "$$\\text{tf-idf}(t, d) = \\text{tf}(t,d) \\cdot \\text{idf}(t) $$\n",
    "See the discussion for an example\n",
    "\n",
    "Display the dense output for the tf-idf matrix for the example from NB1 MA544.ipynb."
   ]
  },
  {
   "cell_type": "code",
   "execution_count": null,
   "metadata": {},
   "outputs": [],
   "source": [
    "# Copy and past the code from NB1 to create term-document matrix"
   ]
  },
  {
   "cell_type": "code",
   "execution_count": null,
   "metadata": {},
   "outputs": [],
   "source": [
    "# Your code for TF \n",
    "\n",
    "# Your code for IDF"
   ]
  },
  {
   "cell_type": "code",
   "execution_count": null,
   "metadata": {},
   "outputs": [],
   "source": [
    "# Find TF-IDF matrix \n",
    "\n",
    "# Display the dense output for the example from NB1"
   ]
  }
 ],
 "metadata": {
  "kernelspec": {
   "display_name": "Python 3 (ipykernel)",
   "language": "python",
   "name": "python3"
  },
  "language_info": {
   "codemirror_mode": {
    "name": "ipython",
    "version": 3
   },
   "file_extension": ".py",
   "mimetype": "text/x-python",
   "name": "python",
   "nbconvert_exporter": "python",
   "pygments_lexer": "ipython3",
   "version": "3.10.12"
  }
 },
 "nbformat": 4,
 "nbformat_minor": 4
}
