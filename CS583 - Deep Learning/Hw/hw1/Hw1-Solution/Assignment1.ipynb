{
  "cells": [
    {
      "cell_type": "markdown",
      "metadata": {
        "id": "BoUbYLVxMNBw"
      },
      "source": [
        "# HM1: Logistic Regression.\n",
        "\n",
        "### Name: Harris Spahic\n",
        "\n"
      ]
    },
    {
      "cell_type": "markdown",
      "metadata": {
        "id": "MUOQqQHBMNBy"
      },
      "source": [
        "#### For this assignment, you will build 6 models. You need to train Logistic Regression/Regularized Logistic Regression each with Batch Gradient Descent, Stochastic Gradient Descent and Mini Batch Gradient Descent. Also, you should plot their objective values versus epochs and compare their training and testing accuracy. You will need to tune the parameters a little bit to obtain reasonable results.\n",
        "\n",
        "#### You do not have to follow the following procedure. You may implement your own functions and methods, but you need to show your results and plots."
      ]
    },
    {
      "cell_type": "code",
      "execution_count": null,
      "metadata": {
        "id": "HSfPCVZSMNBz"
      },
      "outputs": [],
      "source": [
        "# Load Packages\n",
        "import numpy\n",
        "import pandas as pd\n",
        "from sklearn.model_selection import train_test_split\n",
        "\n",
        "import random\n"
      ]
    },
    {
      "cell_type": "markdown",
      "metadata": {
        "id": "sW2RtUDNMNB1"
      },
      "source": [
        "# 1. Data processing\n",
        "\n",
        "- Download the Breast Cancer dataset from canvas or from https://archive.ics.uci.edu/ml/datasets/breast+cancer+wisconsin+(diagnostic)\n",
        "- Load the data.\n",
        "- Preprocess the data."
      ]
    },
    {
      "cell_type": "markdown",
      "metadata": {
        "id": "H1zAM7gaMNB1"
      },
      "source": [
        "## 1.1. Load the data"
      ]
    },
    {
      "cell_type": "code",
      "execution_count": null,
      "metadata": {
        "id": "W2r6QeA0MNB1"
      },
      "outputs": [],
      "source": [
        "data = pd.read_csv(\"data-1.csv\")"
      ]
    },
    {
      "cell_type": "markdown",
      "metadata": {
        "id": "9bNdsIc5MNB2"
      },
      "source": [
        "## 1.2 Examine and clean data"
      ]
    },
    {
      "cell_type": "code",
      "execution_count": null,
      "metadata": {
        "id": "zdUfNb85MNB2"
      },
      "outputs": [],
      "source": [
        "# Some columns may not be useful for the model (For example, the first column contains ID number which may be irrelavant). \n",
        "# You need to get rid of the ID number feature.\n",
        "# Also you should transform target labels in the second column from 'B' and 'M' to 1 and -1.\n",
        "data.head()\n",
        "data = data.drop(columns = [\"id\", \"Unnamed: 32\"])\n",
        "\n",
        "def alter_diagnosis(row):\n",
        "  if(row.diagnosis == 'M'):\n",
        "    row.diagnosis = -1\n",
        "  else:\n",
        "    row.diagnosis = 1\n",
        "  return row\n",
        "\n",
        "data = data.apply(alter_diagnosis, axis=\"columns\")"
      ]
    },
    {
      "cell_type": "code",
      "source": [
        "print(data)"
      ],
      "metadata": {
        "colab": {
          "base_uri": "https://localhost:8080/"
        },
        "id": "g2IjOXpHAoGC",
        "outputId": "8809baad-ecf6-4db1-be44-25ee9fda45ab"
      },
      "execution_count": null,
      "outputs": [
        {
          "output_type": "stream",
          "name": "stdout",
          "text": [
            "     diagnosis  radius_mean  texture_mean  perimeter_mean  area_mean  \\\n",
            "0           -1        17.99         10.38          122.80     1001.0   \n",
            "1           -1        20.57         17.77          132.90     1326.0   \n",
            "2           -1        19.69         21.25          130.00     1203.0   \n",
            "3           -1        11.42         20.38           77.58      386.1   \n",
            "4           -1        20.29         14.34          135.10     1297.0   \n",
            "..         ...          ...           ...             ...        ...   \n",
            "564         -1        21.56         22.39          142.00     1479.0   \n",
            "565         -1        20.13         28.25          131.20     1261.0   \n",
            "566         -1        16.60         28.08          108.30      858.1   \n",
            "567         -1        20.60         29.33          140.10     1265.0   \n",
            "568          1         7.76         24.54           47.92      181.0   \n",
            "\n",
            "     smoothness_mean  compactness_mean  concavity_mean  concave points_mean  \\\n",
            "0            0.11840           0.27760         0.30010              0.14710   \n",
            "1            0.08474           0.07864         0.08690              0.07017   \n",
            "2            0.10960           0.15990         0.19740              0.12790   \n",
            "3            0.14250           0.28390         0.24140              0.10520   \n",
            "4            0.10030           0.13280         0.19800              0.10430   \n",
            "..               ...               ...             ...                  ...   \n",
            "564          0.11100           0.11590         0.24390              0.13890   \n",
            "565          0.09780           0.10340         0.14400              0.09791   \n",
            "566          0.08455           0.10230         0.09251              0.05302   \n",
            "567          0.11780           0.27700         0.35140              0.15200   \n",
            "568          0.05263           0.04362         0.00000              0.00000   \n",
            "\n",
            "     symmetry_mean  ...  radius_worst  texture_worst  perimeter_worst  \\\n",
            "0           0.2419  ...        25.380          17.33           184.60   \n",
            "1           0.1812  ...        24.990          23.41           158.80   \n",
            "2           0.2069  ...        23.570          25.53           152.50   \n",
            "3           0.2597  ...        14.910          26.50            98.87   \n",
            "4           0.1809  ...        22.540          16.67           152.20   \n",
            "..             ...  ...           ...            ...              ...   \n",
            "564         0.1726  ...        25.450          26.40           166.10   \n",
            "565         0.1752  ...        23.690          38.25           155.00   \n",
            "566         0.1590  ...        18.980          34.12           126.70   \n",
            "567         0.2397  ...        25.740          39.42           184.60   \n",
            "568         0.1587  ...         9.456          30.37            59.16   \n",
            "\n",
            "     area_worst  smoothness_worst  compactness_worst  concavity_worst  \\\n",
            "0        2019.0           0.16220            0.66560           0.7119   \n",
            "1        1956.0           0.12380            0.18660           0.2416   \n",
            "2        1709.0           0.14440            0.42450           0.4504   \n",
            "3         567.7           0.20980            0.86630           0.6869   \n",
            "4        1575.0           0.13740            0.20500           0.4000   \n",
            "..          ...               ...                ...              ...   \n",
            "564      2027.0           0.14100            0.21130           0.4107   \n",
            "565      1731.0           0.11660            0.19220           0.3215   \n",
            "566      1124.0           0.11390            0.30940           0.3403   \n",
            "567      1821.0           0.16500            0.86810           0.9387   \n",
            "568       268.6           0.08996            0.06444           0.0000   \n",
            "\n",
            "     concave points_worst  symmetry_worst  fractal_dimension_worst  \n",
            "0                  0.2654          0.4601                  0.11890  \n",
            "1                  0.1860          0.2750                  0.08902  \n",
            "2                  0.2430          0.3613                  0.08758  \n",
            "3                  0.2575          0.6638                  0.17300  \n",
            "4                  0.1625          0.2364                  0.07678  \n",
            "..                    ...             ...                      ...  \n",
            "564                0.2216          0.2060                  0.07115  \n",
            "565                0.1628          0.2572                  0.06637  \n",
            "566                0.1418          0.2218                  0.07820  \n",
            "567                0.2650          0.4087                  0.12400  \n",
            "568                0.0000          0.2871                  0.07039  \n",
            "\n",
            "[569 rows x 31 columns]\n"
          ]
        }
      ]
    },
    {
      "cell_type": "markdown",
      "metadata": {
        "id": "GP8tfArVMNB2"
      },
      "source": [
        "## 1.3. Partition to training and testing sets"
      ]
    },
    {
      "cell_type": "code",
      "execution_count": null,
      "metadata": {
        "id": "_gp5tq3OMNB3"
      },
      "outputs": [],
      "source": [
        "# You can partition using 80% training data and 20% testing data. It is a commonly used ratio in machine learning.\n",
        "features = list(data.columns.values)\n",
        "features.remove(\"diagnosis\")\n",
        "X = data.loc[:, features]\n",
        "y = data.loc[:, [\"diagnosis\"]]\n",
        "x_train, x_test, y_train, y_test = train_test_split(X, y, test_size=0.2)"
      ]
    },
    {
      "cell_type": "markdown",
      "metadata": {
        "id": "icX3ZsOzMNB3"
      },
      "source": [
        "## 1.4. Feature scaling"
      ]
    },
    {
      "cell_type": "markdown",
      "metadata": {
        "id": "SKQlqlT_MNB3"
      },
      "source": [
        "Use the standardization to transform both training and test features"
      ]
    },
    {
      "cell_type": "code",
      "execution_count": null,
      "metadata": {
        "colab": {
          "base_uri": "https://localhost:8080/"
        },
        "id": "PidGco-AMNB3",
        "outputId": "70a0f39f-1caa-4d29-b49e-c49e7bcd0b29"
      },
      "outputs": [
        {
          "output_type": "stream",
          "name": "stdout",
          "text": [
            "test mean = \n",
            "radius_mean               -0.011530\n",
            "texture_mean              -0.049648\n",
            "perimeter_mean            -0.024278\n",
            "area_mean                 -0.030448\n",
            "smoothness_mean           -0.086311\n",
            "compactness_mean          -0.161125\n",
            "concavity_mean            -0.173081\n",
            "concave points_mean       -0.118854\n",
            "symmetry_mean             -0.164165\n",
            "fractal_dimension_mean    -0.111343\n",
            "radius_se                 -0.041021\n",
            "texture_se                -0.056817\n",
            "perimeter_se              -0.083738\n",
            "area_se                   -0.037372\n",
            "smoothness_se              0.101092\n",
            "compactness_se            -0.090339\n",
            "concavity_se              -0.077154\n",
            "concave points_se          0.026614\n",
            "symmetry_se               -0.067501\n",
            "fractal_dimension_se      -0.049114\n",
            "radius_worst              -0.016442\n",
            "texture_worst             -0.056242\n",
            "perimeter_worst           -0.045007\n",
            "area_worst                -0.030742\n",
            "smoothness_worst          -0.089337\n",
            "compactness_worst         -0.183273\n",
            "concavity_worst           -0.172896\n",
            "concave points_worst      -0.097847\n",
            "symmetry_worst            -0.155435\n",
            "fractal_dimension_worst   -0.104520\n",
            "dtype: float64\n",
            "test std = \n",
            "radius_mean                0.878722\n",
            "texture_mean               0.844264\n",
            "perimeter_mean             0.865596\n",
            "area_mean                  0.833381\n",
            "smoothness_mean            0.938096\n",
            "compactness_mean           0.740519\n",
            "concavity_mean             0.732034\n",
            "concave points_mean        0.800389\n",
            "symmetry_mean              0.863104\n",
            "fractal_dimension_mean     0.908649\n",
            "radius_se                  0.809816\n",
            "texture_se                 0.797983\n",
            "perimeter_se               0.742678\n",
            "area_se                    0.715284\n",
            "smoothness_se              1.281863\n",
            "compactness_se             0.923997\n",
            "concavity_se               0.741775\n",
            "concave points_se          0.972605\n",
            "symmetry_se                0.783677\n",
            "fractal_dimension_se       0.869523\n",
            "radius_worst               0.894132\n",
            "texture_worst              0.812853\n",
            "perimeter_worst            0.861239\n",
            "area_worst                 0.861553\n",
            "smoothness_worst           0.906860\n",
            "compactness_worst          0.754433\n",
            "concavity_worst            0.784418\n",
            "concave points_worst       0.822799\n",
            "symmetry_worst             0.807468\n",
            "fractal_dimension_worst    0.942904\n",
            "dtype: float64\n"
          ]
        }
      ],
      "source": [
        "# Standardization\n",
        "import numpy\n",
        "\n",
        "# calculate mu and sig using the training set\n",
        "d = x_train.shape[1]\n",
        "mu = numpy.mean(x_train, axis=0)\n",
        "sig = numpy.std(x_train, axis=0)\n",
        "\n",
        "# transform the training features\n",
        "x_train = (x_train - mu) / (sig + 1E-6)\n",
        "\n",
        "# transform the test features\n",
        "x_test = (x_test - mu) / (sig + 1E-6)\n",
        "\n",
        "print('test mean = ')\n",
        "print(numpy.mean(x_test, axis=0))\n",
        "\n",
        "print('test std = ')\n",
        "print(numpy.std(x_test, axis=0))\n",
        "\n",
        "x_train, y_train, x_test, y_test = x_train.to_numpy(), y_train.to_numpy(), x_test.to_numpy(), y_test.to_numpy()"
      ]
    },
    {
      "cell_type": "markdown",
      "metadata": {
        "id": "DRWF1FJNMNB4"
      },
      "source": [
        "# 2.  Logistic Regression Model\n",
        "\n",
        "The objective function is $Q (w; X, y) = \\frac{1}{n} \\sum_{i=1}^n \\log \\Big( 1 + \\exp \\big( - y_i x_i^T w \\big) \\Big) + \\frac{\\lambda}{2} \\| w \\|_2^2 $.\n",
        "\n",
        "When $\\lambda = 0$, the model is a regular logistic regression and when $\\lambda > 0$, it essentially becomes a regularized logistic regression."
      ]
    },
    {
      "cell_type": "code",
      "execution_count": null,
      "metadata": {
        "id": "hjCGZRu3MNB4"
      },
      "outputs": [],
      "source": [
        "# Calculate the objective function value, or loss\n",
        "# Inputs:\n",
        "#     w: weight: d-by-1 matrix\n",
        "#     x: data: n-by-d matrix\n",
        "#     y: label: n-by-1 matrix\n",
        "#     lam: regularization parameter: scalar\n",
        "# Return:\n",
        "#     objective function value, or loss (scalar)\n",
        "\n",
        "def objective(w, x, y, lam):\n",
        "    assert(x.shape[0] == y.shape[0])\n",
        "    assert(x.shape[1] == w.shape[0])\n",
        "\n",
        "    sum = 0; n = x.shape[0]\n",
        "    for i in range(n):\n",
        "      z = numpy.matmul(numpy.multiply(y[i,:], x[i, :]), w)\n",
        "      result = numpy.log(1 + numpy.exp(-z))\n",
        "      sum += result\n",
        "\n",
        "    bias = (lam / 2) * numpy.linalg.norm(w)\n",
        "    return sum / n + bias"
      ]
    },
    {
      "cell_type": "markdown",
      "metadata": {
        "id": "BK_8aPz8MNB5"
      },
      "source": [
        "# 3. Numerical optimization"
      ]
    },
    {
      "cell_type": "markdown",
      "metadata": {
        "id": "nrN99Ir1MNB5"
      },
      "source": [
        "## 3.1. Gradient descent\n"
      ]
    },
    {
      "cell_type": "markdown",
      "metadata": {
        "id": "OeDpuRGvMNB5"
      },
      "source": [
        "The gradient at $w$ for regularized logistic regression is  $g = - \\frac{1}{n} \\sum_{i=1}^n \\frac{y_i x_i }{1 + \\exp ( y_i x_i^T w)} + \\lambda w$"
      ]
    },
    {
      "cell_type": "code",
      "execution_count": null,
      "metadata": {
        "id": "1aB3QP7XMNB5",
        "colab": {
          "base_uri": "https://localhost:8080/"
        },
        "outputId": "1ecb855d-7a8e-410d-8612-eb71d65d39d8"
      },
      "outputs": [
        {
          "output_type": "stream",
          "name": "stdout",
          "text": [
            "[1.13940677 0.87052781 1.15847    1.12395891 0.90443253 1.14821285\n",
            " 1.21194901 1.25241669 0.88872401 0.64285182 1.01836943 0.53928533\n",
            " 1.02235917 0.99033007 0.49285693 0.91750294 0.84703261 0.98954383\n",
            " 0.57139691 0.71992744 1.18492835 0.91531349 1.1996699  1.15143909\n",
            " 0.93854961 1.12378615 1.1748716  1.26587501 0.93253374 0.91188311]\n"
          ]
        }
      ],
      "source": [
        "# Calculate the gradient\n",
        "# Inputs:\n",
        "#     w: weight: d-by-1 matrix\n",
        "#     x: data: n-by-d matrix\n",
        "#     y: label: n-by-1 matrix\n",
        "#     lam: regularization parameter: scalar\n",
        "# Return:\n",
        "#     g: gradient: d-by-1 matrix\n",
        "\n",
        "def gradient(w, x, y, lam):\n",
        "    assert(x.shape[0] == y.shape[0])\n",
        "    assert(x.shape[1] == w.shape[0])\n",
        "\n",
        "    sum = 0; n = x.shape[0]\n",
        "    for i in range(n):\n",
        "      z = numpy.matmul(numpy.multiply(y[i], x[i]), w)\n",
        "      numerator = numpy.multiply(y[i], x[i])\n",
        "      sum -= numerator / (1 + numpy.exp(z))\n",
        "    \n",
        "    sum = sum/n\n",
        "    return sum + lam * w\n",
        "\n",
        "test_weights = numpy.ones(x_train.shape[1])\n",
        "print(gradient(test_weights, x_train, y_train, 0.5))"
      ]
    },
    {
      "cell_type": "code",
      "execution_count": null,
      "metadata": {
        "id": "4Betyc2XMNB5"
      },
      "outputs": [],
      "source": [
        "# Gradient descent for solving logistic regression\n",
        "# You will need to do iterative processes (loops) to obtain optimal weights in this function\n",
        "\n",
        "# Inputs:\n",
        "#     x: data: n-by-d matrix\n",
        "#     y: label: n-by-1 matrix\n",
        "#     lam: scalar, the regularization parameter\n",
        "#     learning_rate: scalar\n",
        "#     w: weights: d-by-1 matrix, initialization of w\n",
        "#     max_epoch: integer, the maximal epochs\n",
        "# Return:\n",
        "#     w: weights: d-by-1 matrix, the solution\n",
        "#     objvals: a record of each epoch's objective value\n",
        "\n",
        "def gradient_descent(x, y, lam, learning_rate, w, max_epoch=100):\n",
        "    objvals = []\n",
        "    \n",
        "    for epoch in range(max_epoch):\n",
        "      obj = objective(w, x, y, lam)\n",
        "      w -= gradient(w, x, y, lam) * learning_rate\n",
        "\n",
        "      objvals.append(obj)\n",
        "\n",
        "    return w, objvals"
      ]
    },
    {
      "cell_type": "markdown",
      "metadata": {
        "id": "Q596yRUbMNB5"
      },
      "source": [
        "Use gradient_descent function to obtain your optimal weights and a list of objective values over each epoch."
      ]
    },
    {
      "cell_type": "code",
      "execution_count": null,
      "metadata": {
        "id": "9qrEAWoaMNB6",
        "colab": {
          "base_uri": "https://localhost:8080/"
        },
        "outputId": "584898d2-ae6b-492c-a87f-98458021f3e6"
      },
      "outputs": [
        {
          "output_type": "stream",
          "name": "stdout",
          "text": [
            "[14.297006648784398, 13.487196995212255, 12.680314417382805, 11.877529688682587, 11.08026771067247, 10.289585321228493, 9.505916109609336, 8.729583545229339, 7.961259791765186, 7.202209889972502, 6.454555042442677, 5.721607110714859, 5.008154179556991, 4.320756505300139, 3.6681026986839815, 3.061513353415488, 2.5158657802491504, 2.0466014010750095, 1.661304152690012, 1.3563052851493502, 1.1207198911075398, 0.9390293448585079, 0.7973773189093984, 0.6853054391565628, 0.5960466340991138, 0.5249338689093612, 0.46834866826636956, 0.42337017982468056, 0.3875755049687151, 0.358887651803037, 0.3355830477258795, 0.31633416975228706, 0.3001751192454097, 0.2864144202391631, 0.2745502582929078, 0.26420953366798616, 0.25510842360303604, 0.24702713003508658, 0.2397931533599093, 0.23326969330876146, 0.2273472841981949, 0.22193760035976381, 0.21696879473671352, 0.21238195725427442, 0.20812840604292784, 0.2041676038977612, 0.20046554657772966, 0.19699350859680445, 0.1937270609582381, 0.1906452966986202, 0.18773021605901286, 0.1849662349784669, 0.18233978945119675, 0.17983901488386486, 0.1774534845175904, 0.17517399467396305, 0.17299238736575037, 0.17090140291696074, 0.16889455683687446, 0.16696603641619295, 0.16511061345455155, 0.16332357025687583, 0.16160063660287702, 0.1599379358378619, 0.15833193858264855, 0.15677942283736898, 0.15527743947463857, 0.15382328229437894, 0.1524144619550033, 0.1510486832109805, 0.1497238249806322, 0.14843792284473967, 0.14718915363957424, 0.14597582185996916, 0.14479634763116492, 0.14364925604402531, 0.14253316767818858, 0.14144679016285597, 0.14038891064606185, 0.1393583890611423, 0.13835415209425284, 0.1373751877696512, 0.13642054058043415, 0.13548930710179533, 0.13458063203191684, 0.13369370461251842, 0.13282775538704822, 0.13198205325964693, 0.13115590282247747, 0.1303486419228743, 0.12955963944513899, 0.12878829328473326, 0.1280340284951831, 0.1272962955902491, 0.12657456898587133, 0.12586834556813062, 0.125177143374971, 0.1245005003807674, 0.12383797337399735, 0.12318913691930937]\n"
          ]
        }
      ],
      "source": [
        "# Train logistic regression\n",
        "# You should get the optimal weights and a list of objective values by using gradient_descent function.\n",
        "\n",
        "lgr_weights = numpy.ones(x_train.shape[1])\n",
        "lgr_weights, lgr_objvals = gradient_descent(x_train, y_train, 0, 0.1, lgr_weights, max_epoch = 100)\n",
        "print(lgr_objvals)"
      ]
    },
    {
      "cell_type": "code",
      "execution_count": null,
      "metadata": {
        "id": "HkA_V8-GMNB6",
        "colab": {
          "base_uri": "https://localhost:8080/"
        },
        "outputId": "8996c68d-b064-4431-de69-eca9b14dc05e"
      },
      "outputs": [
        {
          "output_type": "stream",
          "name": "stdout",
          "text": [
            "[15.666313042547314, 14.011320638739262, 12.444246935761353, 10.96278546091547, 9.564962798618009, 8.248602625795291, 7.011982294271195, 5.855218642061025, 4.781782954001458, 3.8002586339846856, 2.926046955091574, 2.1830085909598256, 1.600947568062428, 1.1932980160798274, 0.9334798256306005, 0.7711071291917784, 0.6672895214227277, 0.5998210442134725, 0.5548868001261484, 0.5237224600394406, 0.5011728935520138, 0.48426294806374803, 0.4712153322095792, 0.4609174057212312, 0.45264121477484864, 0.4458918780942649, 0.44032179159436846, 0.4356798822105138, 0.43178035348622, 0.4284827497754222, 0.42567885866258687, 0.4232838883057767, 0.4212303943690968, 0.4194640176176768, 0.4179404378227164, 0.4166231590620384, 0.4154818724020859, 0.414491225633583, 0.4136298842303122, 0.4128798037369982, 0.4122256579349839, 0.4116543834962657, 0.4111548130427483, 0.4107173762800135, 0.4103338542912893, 0.40999717589982915, 0.4097012477341495, 0.40944081159681767, 0.4092113241726023, 0.409008855172728, 0.4088300008067836, 0.40867181007764675, 0.4085317218599029, 0.408407511085529, 0.40829724264815237, 0.4081992318675821, 0.40811201054304014, 0.4080342977763359, 0.40796497487242434, 0.4079030637297341, 0.4078477082204888, 0.40779815813512854, 0.40775375532732694, 0.4077139217489719, 0.40767814910939887, 0.4076459899313777, 0.40761704980897107, 0.4075909807001969, 0.4075674751112004, 0.40754626104898006, 0.4075270976371014, 0.4075097713037278, 0.4074940924640431, 0.4074798926300871, 0.40746702189035566, 0.4074553467095884, 0.4074447480060124, 0.4074351194692461, 0.40742636608712335, 0.4074184028540577, 0.4074111536373006, 0.40740455018067134, 0.4073985312280841, 0.40739304175159274, 0.40738803227070597, 0.4073834582514948, 0.4073792795755322, 0.40737546007001413, 0.4073719670915441, 0.40736877115703424, 0.4073658456160254, 0.40736316635946135, 0.407360711560573, 0.4073584614440884, 0.4073563980804533, 0.4073545052021609, 0.40735276803964615, 0.40735117317451647, 0.40734970840815515, 0.4073483626439727]\n"
          ]
        }
      ],
      "source": [
        "# Train regularized logistic regression\n",
        "# You should get the optimal weights and a list of objective values by using gradient_descent function.\n",
        "\n",
        "r_lgr_weights = numpy.ones(x_train.shape[1])\n",
        "r_lgr_weights, r_lgr_objvals = gradient_descent(x_train, y_train, 0.5, 0.1, r_lgr_weights, max_epoch = 100)\n",
        "print(r_lgr_objvals)\n"
      ]
    },
    {
      "cell_type": "markdown",
      "metadata": {
        "id": "tHXe85GCMNB6"
      },
      "source": [
        "## 3.2. Stochastic gradient descent (SGD)\n",
        "\n",
        "Define new objective function $Q_i (w) = \\log \\Big( 1 + \\exp \\big( - y_i x_i^T w \\big) \\Big) + \\frac{\\lambda}{2} \\| w \\|_2^2 $. \n",
        "\n",
        "The stochastic gradient at $w$ is $g_i = \\frac{\\partial Q_i }{ \\partial w} = -\\frac{y_i x_i }{1 + \\exp ( y_i x_i^T w)} + \\lambda w$.\n",
        "\n",
        "You may need to implement a new function to calculate the new objective function and gradients."
      ]
    },
    {
      "cell_type": "code",
      "execution_count": null,
      "metadata": {
        "id": "kuZ9ElooMNB6"
      },
      "outputs": [],
      "source": [
        "# Calculate the objective Q_i and the gradient of Q_i\n",
        "# Inputs:\n",
        "#     w: weights: d-by-1 matrix\n",
        "#     xi: data: 1-by-d matrix\n",
        "#     yi: label: scalar\n",
        "#     lam: scalar, the regularization parameter\n",
        "# Return:\n",
        "#     obj: scalar, the objective Q_i\n",
        "#     g: d-by-1 matrix, gradient of Q_i\n",
        "\n",
        "def stochastic_objective_gradient(w, xi, yi, lam):\n",
        "    assert(w.shape[0] == xi.shape[0])\n",
        "    z = numpy.matmul(numpy.multiply(yi, xi), w)\n",
        "    obj = numpy.log(1 + numpy.exp(-z)) + (lam/2) * numpy.linalg.norm(w)\n",
        "    g = -(numpy.multiply(yi, xi) / (1 + numpy.exp(z))) + lam * w\n",
        "\n",
        "    return obj, g\n",
        "\n",
        "# weights = numpy.ones(x_train.shape[1])\n",
        "# sum = 0\n",
        "# for i in range(x_train.shape[0]):\n",
        "#   sum += stochastic_objective_gradient(weights, x_train[i], y_train[i], 0)[0]\n",
        "\n",
        "# print(sum / x_train.shape[0])"
      ]
    },
    {
      "cell_type": "markdown",
      "metadata": {
        "id": "VCbE2NcvMNB7"
      },
      "source": [
        "Hints:\n",
        "1. In every epoch, randomly permute the $n$ samples.\n",
        "2. Each epoch has $n$ iterations. In every iteration, use 1 sample, and compute the gradient and objective using the ``stochastic_objective_gradient`` function. In the next iteration, use the next sample, and so on."
      ]
    },
    {
      "cell_type": "code",
      "execution_count": null,
      "metadata": {
        "id": "VEjygXd1MNB7"
      },
      "outputs": [],
      "source": [
        "# SGD for solving logistic regression\n",
        "# You will need to do iterative process (loops) to obtain optimal weights in this function\n",
        "\n",
        "# Inputs:\n",
        "#     x: data: n-by-d matrix\n",
        "#     y: label: n-by-1 matrix\n",
        "#     lam: scalar, the regularization parameter\n",
        "#     learning_rate: scalar\n",
        "#     w: weights: d-by-1 matrix, initialization of w\n",
        "#     max_epoch: integer, the maximal epochs\n",
        "# Return:\n",
        "#     \n",
        "#     w: weights: d-by-1 matrix, the solution\n",
        "#     objvals: a record of each epoch's objective value\n",
        "#     Record one objective value per epoch (not per iteration)\n",
        "\n",
        "\n",
        "def sgd(x, y, lam, learning_rate, w, max_epoch=100):\n",
        "    objvals = []\n",
        "    n = x.shape[0]\n",
        "\n",
        "    for epoch in range(max_epoch):\n",
        "      obj_sum = 0\n",
        "      sample_index = numpy.random.permutation(n)\n",
        "      for i in range(n):\n",
        "        iter_obj, gradient = stochastic_objective_gradient(w, x[sample_index[i]], y[sample_index[i]], lam)\n",
        "        w -= learning_rate * gradient\n",
        "        obj_sum += iter_obj\n",
        "      objvals.append(obj_sum /n)\n",
        "\n",
        "    return w, objvals\n"
      ]
    },
    {
      "cell_type": "markdown",
      "metadata": {
        "id": "8xsmpSGbMNB7"
      },
      "source": [
        "Use sgd function to obtain your optimal weights and a list of objective values over each epoch."
      ]
    },
    {
      "cell_type": "code",
      "execution_count": null,
      "metadata": {
        "id": "S7_DzPsJMNB7",
        "colab": {
          "base_uri": "https://localhost:8080/"
        },
        "outputId": "4eb2183c-cc93-4c73-af57-22b8e13dd249"
      },
      "outputs": [
        {
          "output_type": "stream",
          "name": "stdout",
          "text": [
            "[12.477689422183477, 8.891199757764635, 5.5028829750330885, 2.6721606813633545, 1.1192485271796973, 0.5640681864950194, 0.3628142297933979, 0.2816767112684658, 0.2402820737641239, 0.21463133611495078, 0.19680282766433252, 0.1833589290100429, 0.17266831155651716, 0.16390481907841076, 0.1565009706050466, 0.15011517109302938, 0.14454694441381932, 0.13965113358443906, 0.13528370811689552, 0.1313737154442717, 0.12786239063009597, 0.12468864256973063, 0.12180218201740431, 0.11916676249450309, 0.11675675033385248, 0.11454000546941231, 0.1124951242633458, 0.11060224475222287, 0.10884947807400577, 0.10721354484234727, 0.10568609666307299, 0.10425717832629647, 0.10291878851811943, 0.1016601872170134, 0.10047449482211351, 0.09935576474380522, 0.09829569514534994, 0.0972953918044822, 0.09634270271463327, 0.09543552453168463, 0.0945724410259415, 0.09374899947322896, 0.09296198301386706, 0.09220764948800331, 0.09148582824742767, 0.09079386809780564, 0.09012689210774269, 0.0894879998477753, 0.0888718646478495, 0.08827674186476761, 0.08770450662327306, 0.08714917638817297, 0.08661502205466616, 0.08609590109707284, 0.08559382783779093, 0.08510805896697111, 0.08463596572862671, 0.08417809331105666, 0.08373280357760816, 0.08330049200858379, 0.08287912062563414, 0.08247078582174704, 0.08207184167674157, 0.08168419801982683, 0.0813062326577609, 0.08093662753074193, 0.08057715535046217, 0.0802265320620518, 0.07988276181894025, 0.07954752996240697, 0.07922086664689366, 0.07890036096610202, 0.0785866207188737, 0.07827895908415071, 0.07798014912561038, 0.07768621702516504, 0.07739769754072472, 0.07711537952568792, 0.0768392236255619, 0.07656851357476745, 0.07630185412702213, 0.07604101011718002, 0.07578550788272448, 0.07553348088620176, 0.07528741494276557, 0.075045154440774, 0.07480728600579518, 0.07457330573201722, 0.07434313662035107, 0.0741169608399188, 0.07389565554908954, 0.07367791768248658, 0.07346281977204648, 0.0732518604437675, 0.0730436917086196, 0.0728395374211481, 0.07263813208837284, 0.07243995124277748, 0.0722444984201531, 0.07205245337860205]\n"
          ]
        }
      ],
      "source": [
        "# Train logistic regression\n",
        "# You should get the optimal weights and a list of objective values by using gradient_descent function.\n",
        "\n",
        "slg_weights = numpy.ones(x_train.shape[1])\n",
        "slg_weights, slg_obj = sgd(x_train, y_train, 0, 0.001, slg_weights, max_epoch=100)\n",
        "print(slg_obj)"
      ]
    },
    {
      "cell_type": "code",
      "execution_count": null,
      "metadata": {
        "id": "Ioz-73EIMNB7",
        "colab": {
          "base_uri": "https://localhost:8080/"
        },
        "outputId": "bc46e00a-30c2-47af-9280-73a7fe7fa1b0"
      },
      "outputs": [
        {
          "output_type": "stream",
          "name": "stdout",
          "text": [
            "[12.250871665667013, 6.385229851636004, 2.311550447834774, 0.7778719401852072, 0.5152991033291127, 0.4541049014617086, 0.4307558714281222, 0.4201720243559016, 0.41473296998867093, 0.41178076556248877, 0.4101827946602554, 0.4090643249390571, 0.40873172191587953, 0.40847951643027214, 0.4082596540736584, 0.4080747871659077, 0.4079367945972353, 0.40804631130354846, 0.4079064485728821, 0.40795851950064804, 0.40793944584711983, 0.4077730243235814, 0.40798099979120894, 0.4078245746912622, 0.4078895382735313, 0.4078003778357568, 0.4077534690325691, 0.407861667144938, 0.40779474748668537, 0.4079658140009135, 0.40787436672336413, 0.40796420720576376, 0.4078627052593073, 0.40775774698053446, 0.4078451857867479, 0.4078841858209399, 0.4078520526344476, 0.4078874991176101, 0.4078790932153902, 0.4077705650852803, 0.4078894410009772, 0.40782543428143453, 0.40780999158873155, 0.4079243057367667, 0.40780411240190134, 0.40780361414685196, 0.4078094566610879, 0.40792094213948, 0.4078713067178158, 0.4078863975330319, 0.4078807410197984, 0.40790066289435134, 0.4077663288293227, 0.407841154552745, 0.40791376782426986, 0.40777441061104774, 0.4077656984446419, 0.40793603965088837, 0.4078694558264689, 0.4079554642028117, 0.4079189977622732, 0.40775601288906443, 0.4077489366070426, 0.4079650844478902, 0.4077819700646405, 0.40785551776014134, 0.40786475863701854, 0.40783511671310296, 0.40788433211872954, 0.4077687089897198, 0.4078786814578639, 0.40783877450318196, 0.4078406283315333, 0.40782969974269545, 0.40790110786694256, 0.4077821955409875, 0.4079439271158958, 0.40774684867680294, 0.40787556455879637, 0.4078873577621621, 0.4078789946591522, 0.4079208820641661, 0.407841902395206, 0.40780582652208275, 0.40777370846182065, 0.40794837067705997, 0.4079444310714386, 0.4076848290781099, 0.4079124387504731, 0.4079395395242335, 0.40787543335023124, 0.40775931133601084, 0.4078931865479886, 0.40791559272683925, 0.4078921016951469, 0.4077888513741375, 0.40786570444193165, 0.40777192627166364, 0.4079180355522985, 0.40785379867751903]\n"
          ]
        }
      ],
      "source": [
        "# Train regularized logistic regression\n",
        "# You should get the optimal weights and a list of objective values by using gradient_descent function.\n",
        "\n",
        "slgr_weights = numpy.ones(x_train.shape[1])\n",
        "slgr_weights, slgr_obj = sgd(x_train, y_train, 0.5, 0.001, slgr_weights, max_epoch=100)\n",
        "print(slgr_obj)"
      ]
    },
    {
      "cell_type": "markdown",
      "metadata": {
        "id": "0Hej7BDvMNB7"
      },
      "source": [
        "## 3.3 Mini-Batch Gradient Descent (MBGD)"
      ]
    },
    {
      "cell_type": "markdown",
      "metadata": {
        "id": "Ha59VNHDMNB7"
      },
      "source": [
        "Define $Q_I (w) = \\frac{1}{b} \\sum_{i \\in I} \\log \\Big( 1 + \\exp \\big( - y_i x_i^T w \\big) \\Big) + \\frac{\\lambda}{2} \\| w \\|_2^2 $, where $I$ is a set containing $b$ indices randomly drawn from $\\{ 1, \\cdots , n \\}$ without replacement.\n",
        "\n",
        "The stochastic gradient at $w$ is $g_I = \\frac{\\partial Q_I }{ \\partial w} = \\frac{1}{b} \\sum_{i \\in I} \\frac{- y_i x_i }{1 + \\exp ( y_i x_i^T w)} + \\lambda w$.\n",
        "\n",
        "You may need to implement a new function to calculate the new objective function and gradients."
      ]
    },
    {
      "cell_type": "code",
      "execution_count": null,
      "metadata": {
        "id": "GBkd-QLVMNB8"
      },
      "outputs": [],
      "source": [
        "# Calculate the objective Q_I and the gradient of Q_I\n",
        "# Inputs:\n",
        "#     w: weights: d-by-1 matrix\n",
        "#     xi: data: b-by-d matrix\n",
        "#     yi: label: scalar\n",
        "#     lam: scalar, the regularization parameter\n",
        "# Return:\n",
        "#     obj: scalar, the objective Q_i\n",
        "#     g: d-by-1 matrix, gradient of Q_i\n",
        "\n",
        "def mb_objective_gradient(w, xi, yi, lam):\n",
        "    assert(w.shape[0] == xi.shape[1])\n",
        "    \n",
        "    obj_sum = 0\n",
        "    grad_sum = 0\n",
        "    b = xi.shape[0]\n",
        "\n",
        "    for i in range(b):\n",
        "      z = numpy.matmul(numpy.multiply(yi[i], xi[i]), w)\n",
        "      obj_sum += numpy.log(1 + numpy.exp(-z)) \n",
        "      grad_sum = grad_sum - numpy.multiply(yi[i], xi[i]) / (1 + numpy.exp(z))\n",
        "    \n",
        "    return (obj_sum + (lam / 2) * numpy.linalg.norm(w))/b, (grad_sum + lam * w)/b "
      ]
    },
    {
      "cell_type": "markdown",
      "metadata": {
        "id": "ZiMRKJmKMNB8"
      },
      "source": [
        "Hints:\n",
        "1. In every epoch, randomly permute the $n$ samples (just like SGD).\n",
        "2. Each epoch has $\\frac{n}{b}$ iterations. In every iteration, use $b$ samples, and compute the gradient and objective using the ``mb_objective_gradient`` function. In the next iteration, use the next $b$ samples, and so on."
      ]
    },
    {
      "cell_type": "code",
      "execution_count": null,
      "metadata": {
        "id": "KyfZkUGSMNB8"
      },
      "outputs": [],
      "source": [
        "# MBGD for solving logistic regression\n",
        "# You will need to do iterative process (loops) to obtain optimal weights in this function\n",
        "\n",
        "# Inputs:\n",
        "#     x: data: n-by-d matrix\n",
        "#     y: label: n-by-1 matrix\n",
        "#     lam: scalar, the regularization parameter\n",
        "#     learning_rate: scalar\n",
        "#     w: weights: d-by-1 matrix, initialization of w\n",
        "#     max_epoch: integer, the maximal epochs\n",
        "# Return:\n",
        "#     w: weights: d-by-1 matrix, the solution\n",
        "#     objvals: a record of each epoch's objective value\n",
        "#     Record one objective value per epoch (not per iteration)\n",
        "\n",
        "def mbgd(x, y, lam, learning_rate, w, max_epoch=100):\n",
        "    b = 20\n",
        "    obj_vals = []\n",
        "    obj_sum = 0\n",
        "\n",
        "    for epoch in range(max_epoch):\n",
        "      obj_sum = 0\n",
        "\n",
        "      for i in range(x.shape[0] // b):\n",
        "        selected_i = numpy.random.choice(x.shape[0], b)\n",
        "        xi, yi = x[selected_i, :], y[selected_i, :]\n",
        "        obj, grad = mb_objective_gradient(w, xi, yi, lam)\n",
        "        \n",
        "        w -= learning_rate * grad\n",
        "        obj_sum += obj\n",
        "\n",
        "      obj_sum = obj_sum / (x.shape[0] // b)\n",
        "      \n",
        "      obj_vals.append(obj_sum)\n",
        "\n",
        "\n",
        "    return w, obj_vals"
      ]
    },
    {
      "cell_type": "markdown",
      "metadata": {
        "id": "IYW-_W-EMNB8"
      },
      "source": [
        "Use mbgd function to obtain your optimal weights and a list of objective values over each epoch."
      ]
    },
    {
      "cell_type": "code",
      "execution_count": null,
      "metadata": {
        "id": "qBTFkKuxMNB8",
        "colab": {
          "base_uri": "https://localhost:8080/"
        },
        "outputId": "e95e5669-d57b-455b-de67-0c65b02d4a67"
      },
      "outputs": [
        {
          "output_type": "stream",
          "name": "stdout",
          "text": [
            "[12.77229538345532, 9.186891571270134, 5.795330372578098, 2.9309490408750416, 1.3054625338839276, 0.5599927367388827, 0.3422148755728321, 0.2935039460947751, 0.22963976154369775, 0.22165295747430044, 0.2000243194145498, 0.16556884370549727, 0.1400335765315187, 0.16241226942824633, 0.16124571944548655, 0.1454401054205138, 0.13929877906564578, 0.12220091101815736, 0.11770157308916838, 0.14608189861437937, 0.1277846608928734, 0.13096719584959354, 0.12242367982378834, 0.14657621034587495, 0.13702692405753217, 0.10652635931352043, 0.10849953206878876, 0.09741219859488524, 0.12639403228437696, 0.12263136492077593, 0.1293918385860967, 0.09760067533395357, 0.09866379416831958, 0.09040434936753641, 0.10862316516626955, 0.09237059554642615, 0.09568949647590363, 0.10758521200462559, 0.10243944666183914, 0.10076669301386972, 0.08813505446826009, 0.08658803131025586, 0.09563927682720844, 0.08363897438862233, 0.081683599739371, 0.10162147296144922, 0.09682117164576369, 0.09672353107729147, 0.11630273762448433, 0.0735756510724447, 0.09337111439535381, 0.08232580861021312, 0.10061807859539976, 0.09953506411530468, 0.07252404766043223, 0.07831857001919479, 0.07069037215533615, 0.08322858872931273, 0.09074553479838954, 0.07757948644194114, 0.060367717126394396, 0.10165561542517665, 0.08436651960087574, 0.07163145649918051, 0.0944719282064137, 0.09103161573959771, 0.09303670549549743, 0.08037097954213855, 0.0905264359874939, 0.08018969865592801, 0.07333448421607808, 0.07510869034875275, 0.08633378841228419, 0.06294310427728532, 0.08419337515078842, 0.06600205849594597, 0.09952462977503274, 0.06748618651657369, 0.09042715093608548, 0.07677994179956826, 0.09779569762025088, 0.07784314032202355, 0.08341241803964677, 0.07025518188790696, 0.06278321647931898, 0.0885204510889091, 0.06489539527345255, 0.0647609595089847, 0.06878589737273118, 0.07202506982306713, 0.07036867721735311, 0.08464931420927489, 0.0702582635247724, 0.09375495548138134, 0.07923002252209797, 0.07277606875378402, 0.07423048392036806, 0.08093883005091738, 0.08837279802337598, 0.08419970576001946]\n"
          ]
        }
      ],
      "source": [
        "# Train logistic regression\n",
        "# You should get the optimal weights and a list of objective values by using gradient_descent function.\n",
        "\n",
        "mb_weights = numpy.ones(x_train.shape[1])\n",
        "mb_weights, mb_obj = mbgd(x_train, y_train, 0, 0.02, mb_weights, max_epoch = 100)\n",
        "print(mb_obj)"
      ]
    },
    {
      "cell_type": "code",
      "execution_count": null,
      "metadata": {
        "id": "Ck1Exor4MNB8",
        "colab": {
          "base_uri": "https://localhost:8080/"
        },
        "outputId": "5dd48e53-de45-48c2-bb60-f4f47164d6b1"
      },
      "outputs": [
        {
          "output_type": "stream",
          "name": "stdout",
          "text": [
            "[12.647369879471631, 8.293278299171478, 5.6524028513229805, 3.0131822329305398, 1.3351646536973574, 0.6312749310140889, 0.400774842873256, 0.26630617660938494, 0.2594472799518497, 0.2088918416187913, 0.2419521951314044, 0.16977367582640532, 0.2025656993567212, 0.20119900280340025, 0.1889547794728166, 0.16003853737954724, 0.16176140976646122, 0.16662718943895952, 0.15900957886679326, 0.1425502227229947, 0.16922537760461676, 0.16877135986549183, 0.1567170171395924, 0.14603539674307864, 0.13882206161122215, 0.1336220601984042, 0.14986026307966016, 0.1512590198267697, 0.12178656338017374, 0.1419626476625713, 0.13553575616311375, 0.14498115618558366, 0.14079226999662928, 0.14646043508767395, 0.13847299658032605, 0.11229708540294346, 0.12851308215694898, 0.12766183833420294, 0.13462219803787215, 0.12848118984011728, 0.11714647292344095, 0.11825497548377652, 0.139465035242461, 0.11299071739780787, 0.10727083980975792, 0.14030005793322115, 0.12362761706144682, 0.11493580531705766, 0.12168569909049194, 0.12957610267774833, 0.112644371228403, 0.12857608303200832, 0.11779958096165653, 0.13014351225727372, 0.13069834523352533, 0.11359971433988393, 0.14776739368520586, 0.11338687709862111, 0.11323146487286978, 0.12630666334143423, 0.12349248255644919, 0.11610987558475597, 0.1282080558879525, 0.14379968686146088, 0.13240639584303487, 0.11805895343121225, 0.12115341111707272, 0.11127150702319705, 0.1320004792176993, 0.1172897713932009, 0.12246166876751875, 0.12039160496447793, 0.11921112387799365, 0.11632548816539591, 0.13657549367918295, 0.1496159062630229, 0.12857515922180285, 0.12736520927314593, 0.10884806371171073, 0.10329729836602747, 0.10423698484926484, 0.13195200178772457, 0.1337152074492252, 0.1253798379971686, 0.1348502199351253, 0.11842853033227088, 0.13230574901360512, 0.13013242152049306, 0.11326874731078859, 0.11693594523328915, 0.11552750193599502, 0.11500506274022712, 0.12446278014984373, 0.15405028582735888, 0.11770280500565562, 0.11404101395127282, 0.1036164597220778, 0.11550419776097237, 0.13488332668542524, 0.125694198373774]\n"
          ]
        }
      ],
      "source": [
        "# Train regularized logistic regression\n",
        "# You should get the optimal weights and a list of objective values by using gradient_descent function.\n",
        "\n",
        "rmb_weights = numpy.ones(x_train.shape[1])\n",
        "rmb_weights, rmb_obj = mbgd(x_train, y_train, 0.5, 0.02, rmb_weights, max_epoch = 100)\n",
        "print(rmb_obj)"
      ]
    },
    {
      "cell_type": "markdown",
      "metadata": {
        "id": "JBHfisWTMNB8"
      },
      "source": [
        "# 4. Compare GD, SGD, MBGD\n",
        "\n",
        "### Plot objective function values against epochs."
      ]
    },
    {
      "cell_type": "code",
      "execution_count": null,
      "metadata": {
        "id": "DtU20I5uMNB9",
        "colab": {
          "base_uri": "https://localhost:8080/",
          "height": 851
        },
        "outputId": "25b42334-9d34-49e7-b756-173cec3d3aa4"
      },
      "outputs": [
        {
          "output_type": "display_data",
          "data": {
            "text/plain": [
              "<Figure size 432x288 with 1 Axes>"
            ],
            "image/png": "[encoded data removed]"
          },
          "metadata": {
            "needs_background": "light"
          }
        },
        {
          "output_type": "display_data",
          "data": {
            "text/plain": [
              "<Figure size 432x288 with 1 Axes>"
            ],
            "image/png": "[encoded data removed]"
          },
          "metadata": {
            "needs_background": "light"
          }
        },
        {
          "output_type": "display_data",
          "data": {
            "text/plain": [
              "<Figure size 432x288 with 1 Axes>"
            ],
            "image/png": "[encoded data removed]"
          },
          "metadata": {
            "needs_background": "light"
          }
        }
      ],
      "source": [
        "import matplotlib.pyplot as plt\n",
        "%matplotlib inline\n",
        "\n",
        "lgr_objvals, r_lgr_objvals, slg_obj, slgr_obj, mb_obj, rmb_obj;\n",
        "epochs = numpy.arange(100)\n",
        "\n",
        "fig, ax = plt.subplots()\n",
        "ax.plot(epochs, lgr_objvals, color = \"red\")\n",
        "ax.plot(epochs, r_lgr_objvals, color = \"blue\")\n",
        "ax.set(xlabel = \"epoch #\", ylabel = \"loss\", title = \"Loss for Gradient(R) vs Regularized Gradient(B)\")\n",
        "ax.grid()\n",
        "\n",
        "plt.show()\n",
        "\n",
        "fig, ax = plt.subplots()\n",
        "ax.plot(epochs, slg_obj, color = \"red\")\n",
        "ax.plot(epochs, slgr_obj, color = \"blue\")\n",
        "ax.set(xlabel = \"epoch #\", ylabel = \"loss\", title = \"Loss for Gradient(R) vs Regularized Gradient(B)\")\n",
        "ax.grid()\n",
        "\n",
        "plt.show()\n",
        "\n",
        "fig, ax = plt.subplots()\n",
        "ax.plot(epochs, mb_obj, color = \"red\")\n",
        "ax.plot(epochs, rmb_obj, color = \"blue\")\n",
        "ax.set(xlabel = \"epoch #\", ylabel = \"loss\", title = \"Loss for Gradient(R) vs Regularized Gradient(B)\")\n",
        "ax.grid()\n",
        "\n",
        "plt.show()\n"
      ]
    },
    {
      "cell_type": "markdown",
      "metadata": {
        "id": "eBLGffkoMNB9"
      },
      "source": [
        "# 5. Prediction\n",
        "### Compare the training and testing accuracy for logistic regression and regularized logistic regression."
      ]
    },
    {
      "cell_type": "code",
      "execution_count": null,
      "metadata": {
        "id": "_7BmEN4kMNB9"
      },
      "outputs": [],
      "source": [
        "# Predict class label\n",
        "# Inputs:\n",
        "#     w: weights: d-by-1 matrix\n",
        "#     X: data: m-by-d matrix\n",
        "# Return:\n",
        "#     f: m-by-1 matrix, the predictions\n",
        "from decimal import Decimal\n",
        "\n",
        "def predict(w, X):\n",
        "    y_pred = numpy.matmul(X, w)\n",
        "    fix_pred = lambda x: 1 if x > 0 else -1\n",
        "    y_pred = [fix_pred(x) for x in y_pred]\n",
        "    \n",
        "    return y_pred\n",
        "\n",
        "def calc_accuracy(y_pred, y_train):\n",
        "    y_train = numpy.squeeze(y_train)\n",
        "    return Decimal(1 - numpy.count_nonzero(y_train - y_pred) / len(y_pred))"
      ]
    },
    {
      "cell_type": "code",
      "execution_count": null,
      "metadata": {
        "id": "V4BBqx8dMNB9",
        "colab": {
          "base_uri": "https://localhost:8080/"
        },
        "outputId": "7defb284-1424-4e69-916c-5055b485123f"
      },
      "outputs": [
        {
          "output_type": "stream",
          "name": "stdout",
          "text": [
            "0.9516483516483515980866059180698357522487640380859375\n",
            "0.95824175824175827909101599288987927138805389404296875\n",
            "0.98681318681318686003578477539122104644775390625\n",
            "0.95824175824175827909101599288987927138805389404296875\n",
            "0.98021978021978017903137470057117752730846405029296875\n",
            "0.984615384615384670041748904623091220855712890625\n"
          ]
        }
      ],
      "source": [
        "# evaluate training error of logistic regression and regularized version\n",
        "\n",
        "print(calc_accuracy(predict(lgr_weights, x_train), y_train))\n",
        "print(calc_accuracy(predict(r_lgr_weights, x_train), y_train))\n",
        "\n",
        "print(calc_accuracy(predict(slg_weights, x_train), y_train))\n",
        "print(calc_accuracy(predict(slgr_weights, x_train), y_train))\n",
        "\n",
        "print(calc_accuracy(predict(mb_weights, x_train), y_train))\n",
        "print(calc_accuracy(predict(rmb_weights, x_train), y_train))\n"
      ]
    },
    {
      "cell_type": "code",
      "execution_count": null,
      "metadata": {
        "id": "WxxngUmnMNB9",
        "colab": {
          "base_uri": "https://localhost:8080/"
        },
        "outputId": "53251a56-3ca4-4c20-8347-7d00b67c787d"
      },
      "outputs": [
        {
          "output_type": "stream",
          "name": "stdout",
          "text": [
            "0.97368421052631581869007959539885632693767547607421875\n",
            "0.9912280701754385692225923776277340948581695556640625\n",
            "0.982456140350877138445184755255468189716339111328125\n",
            "0.9912280701754385692225923776277340948581695556640625\n",
            "0.982456140350877138445184755255468189716339111328125\n",
            "0.9912280701754385692225923776277340948581695556640625\n"
          ]
        }
      ],
      "source": [
        "# evaluate testing error of logistic regression and regularized version\n",
        "\n",
        "print(calc_accuracy(predict(lgr_weights, x_test), y_test))\n",
        "print(calc_accuracy(predict(r_lgr_weights, x_test), y_test))\n",
        "\n",
        "print(calc_accuracy(predict(slg_weights, x_test), y_test))\n",
        "print(calc_accuracy(predict(slgr_weights, x_test), y_test))\n",
        "\n",
        "print(calc_accuracy(predict(mb_weights, x_test), y_test))\n",
        "print(calc_accuracy(predict(rmb_weights, x_test), y_test))\n"
      ]
    },
    {
      "cell_type": "markdown",
      "metadata": {
        "id": "GQwqP1ERMNB9"
      },
      "source": [
        "# 6. Parameters tuning"
      ]
    },
    {
      "cell_type": "markdown",
      "metadata": {
        "id": "VocKBoKjMNB9"
      },
      "source": [
        "### In this section, you may try different combinations of parameters (regularization value, learning rate, etc) to see their effects on the model. (Open ended question)"
      ]
    },
    {
      "cell_type": "code",
      "execution_count": null,
      "metadata": {
        "id": "pb5HeYJTMNB-",
        "colab": {
          "base_uri": "https://localhost:8080/"
        },
        "outputId": "228fbb3f-a88c-408d-8871-d84e065a3c9a"
      },
      "outputs": [
        {
          "output_type": "stream",
          "name": "stdout",
          "text": [
            "[14.297006648784398, 13.487196995212255, 12.680314417382805, 11.877529688682587, 11.08026771067247, 10.289585321228493, 9.505916109609336, 8.729583545229339, 7.961259791765186, 7.202209889972502, 6.454555042442677, 5.721607110714859, 5.008154179556991, 4.320756505300139, 3.6681026986839815, 3.061513353415488, 2.5158657802491504, 2.0466014010750095, 1.661304152690012, 1.3563052851493502, 1.1207198911075398, 0.9390293448585079, 0.7973773189093984, 0.6853054391565628, 0.5960466340991138, 0.5249338689093612, 0.46834866826636956, 0.42337017982468056, 0.3875755049687151, 0.358887651803037, 0.3355830477258795, 0.31633416975228706, 0.3001751192454097, 0.2864144202391631, 0.2745502582929078, 0.26420953366798616, 0.25510842360303604, 0.24702713003508658, 0.2397931533599093, 0.23326969330876146, 0.2273472841981949, 0.22193760035976381, 0.21696879473671352, 0.21238195725427442, 0.20812840604292784, 0.2041676038977612, 0.20046554657772966, 0.19699350859680445, 0.1937270609582381, 0.1906452966986202]\n",
            "[19.77423222383606, 14.76390094738342, 10.77385340172258, 7.611702329209891, 5.133513664839476, 3.250152548517601, 1.9365995213202707, 1.1943914573931067, 0.891433836948248, 0.7836971804620203, 0.7415581626437086, 0.7228854122675733, 0.7138150121311707, 0.7091254608219841, 0.706598470495831, 0.7052006632553054, 0.70441611080409, 0.7039736469307105, 0.7037253068330237, 0.7035881599826685, 0.7035148552677732, 0.7034780287915501, 0.703461763375563, 0.7034567876704116, 0.7034577241241455, 0.7034614881756978, 0.7034663470531264, 0.7034713622595212, 0.7034760578804862, 0.7034802229968544, 0.7034837942579115, 0.7034867865695082, 0.7034892527087765, 0.7034912603057846, 0.7034928791991384, 0.7034941749263437, 0.7034952057803758, 0.7034960218816293, 0.7034966653361131, 0.7034971709305606, 0.7034975670467154, 0.703497876617353, 0.7034981180308331, 0.7034983059406106, 0.7034984519646665, 0.7034985652754631, 0.7034986530890106, 0.703498721065035, 0.7034987736311373, 0.7034988142432816]\n",
            "[12.477406061703403, 8.88824650815189, 5.495578527162337, 2.6671740105500588, 1.1240268177547008, 0.568326968287144, 0.3661440129671688, 0.28406160517239826, 0.24179562506579758, 0.21578412613876716, 0.19767109062502305, 0.1840709040072375, 0.17326461876286472, 0.1643718353217966, 0.15688722301886746, 0.15043596323040626, 0.14482389886190405, 0.13988771486005905, 0.13551298917096768, 0.13159895121094986, 0.12807191982532296, 0.12487963707406206, 0.12198093495160883, 0.11933442034757422, 0.11691096886880281, 0.11468441640340131, 0.11263513665605238, 0.11073709317939227, 0.10897538737831954, 0.1073391238839811, 0.10581060569268552, 0.10437950970029233, 0.10303432994920378, 0.10177183409542204, 0.10058621791788845, 0.09946384064574224, 0.09840203706237421, 0.09739628173613275, 0.09644027101164689, 0.09553074080803996, 0.09466612347450012, 0.09384007016118856, 0.09305015943951232, 0.092294420115769, 0.09156846843045098, 0.09087682520581093, 0.09020961166980647, 0.08956719345446652, 0.08894738778124427, 0.08835110854661737]\n",
            "[11.319048106214128, 2.25835755415989, 0.7609452013577843, 0.7065189421682725, 0.7041013500956337, 0.7044574706023553, 0.7051475483285594, 0.7039214105935299, 0.7042264732967678, 0.7048559188111013, 0.7044048856223788, 0.7053171760970078, 0.704290877365958, 0.70342181987028, 0.7048797518939379, 0.7051080992490752, 0.7043862012970635, 0.7044535595009259, 0.7041986915083414, 0.7056719760149189, 0.7040218488907803, 0.7038637546398812, 0.7043159889345204, 0.705051185130165, 0.7052529643856027, 0.7035250320484925, 0.7047138742112881, 0.704912479701634, 0.7043451383353815, 0.7047155824710861, 0.7040929004046044, 0.7050005161135011, 0.7044305476803172, 0.7043399024032146, 0.7042203288102029, 0.7047635710221051, 0.7050576483388312, 0.7039739688124599, 0.7049728235879154, 0.7044782960025556, 0.7047969215230511, 0.7036736576813309, 0.7045633507365885, 0.7048037113766329, 0.7044360268516523, 0.7043114656165447, 0.7045669214000488, 0.7048961069593797, 0.704804655745422, 0.704480921210089]\n",
            "[13.179677755550257, 8.589390547875094, 5.853161258160356, 3.0213475572061426, 1.2818898040973146, 0.5761645192254238, 0.37800981472885786, 0.26419044915559003, 0.2654471043425082, 0.25554291498069504, 0.2159265896827183, 0.19418174232396934, 0.17320114407306553, 0.17815286828005256, 0.18842627762214006, 0.1526463368914258, 0.12760127724751616, 0.14813711602729643, 0.1408741955585985, 0.16448104663970498, 0.13389900252652587, 0.11373420784806397, 0.12114910589214074, 0.12760111058807777, 0.12333298825188174, 0.10923142979866539, 0.13462774608341446, 0.1056792136068304, 0.09307981304369535, 0.09065524104314025, 0.10767222936874897, 0.11712369728710867, 0.12997375709493758, 0.09653065535451483, 0.10478941675382694, 0.10032098320739413, 0.1018814579897719, 0.0913828237039012, 0.09613338701698906, 0.09726612851595774, 0.09224816714918022, 0.09288837955178889, 0.08766639245766898, 0.08565341222404042, 0.08159968732695994, 0.09983724809801515, 0.0769337969450224, 0.08859075518193761, 0.09131000584340572, 0.08354022900576309]\n",
            "[11.885705196942787, 8.658202543806285, 5.224611217872139, 2.2622825845422203, 0.9367054258984683, 0.5050816713651027, 0.36888895879566513, 0.3211831700987446, 0.27660566586680574, 0.26151318802950857, 0.28123332387018113, 0.24833891332424776, 0.2696766429772679, 0.23191190362926964, 0.23307386173848785, 0.20596062124403772, 0.22498654144661445, 0.21359937254553565, 0.21179298297848048, 0.2554858260066927, 0.20269494964425877, 0.2120676302619291, 0.2019906427839632, 0.20409932170404252, 0.22459902545148705, 0.2247869866936817, 0.21333032164520385, 0.20181609543890805, 0.1943581459156022, 0.1867568288853639, 0.22327674281153478, 0.20882122993488297, 0.20482839894853672, 0.19554699772931441, 0.1980202071861149, 0.2114451836863882, 0.21107170036350478, 0.20904026311002236, 0.1932465846754309, 0.19799433172816033, 0.2037888696537831, 0.22387902571028998, 0.1958330640414685, 0.20227891743564144, 0.22336675755242635, 0.20653777973340073, 0.2030150643854944, 0.21402846769775657, 0.19187030334331637, 0.2135013669019048]\n"
          ]
        }
      ],
      "source": [
        "# Retrain each model on lower epoch size & larger regularization term\n",
        "\n",
        "# Normal Gradient Descent\n",
        "lgr_weights = numpy.ones(x_train.shape[1])\n",
        "lgr_weights, lgr_objvals = gradient_descent(x_train, y_train, 0, 0.1, lgr_weights, max_epoch = 50)\n",
        "print(lgr_objvals)\n",
        "\n",
        "# Regularized Gradient Descent\n",
        "r_lgr_weights = numpy.ones(x_train.shape[1])\n",
        "r_lgr_weights, r_lgr_objvals = gradient_descent(x_train, y_train, 1, 0.1, r_lgr_weights, max_epoch = 50)\n",
        "print(r_lgr_objvals)\n",
        "\n",
        "# Stochastic Gradient Descent\n",
        "slg_weights = numpy.ones(x_train.shape[1])\n",
        "slg_weights, slg_obj = sgd(x_train, y_train, 0, 0.001, slg_weights, max_epoch=50)\n",
        "print(slg_obj)\n",
        "\n",
        "# Regularized Stochastic Gradient Descent\n",
        "slgr_weights = numpy.ones(x_train.shape[1])\n",
        "slgr_weights, slgr_obj = sgd(x_train, y_train, 1, 0.001, slgr_weights, max_epoch=50)\n",
        "print(slgr_obj)\n",
        "\n",
        "# Mini-batch Gradient Descent\n",
        "mb_weights = numpy.ones(x_train.shape[1])\n",
        "mb_weights, mb_obj = mbgd(x_train, y_train, 0, 0.02, mb_weights, max_epoch = 50)\n",
        "print(mb_obj)\n",
        "\n",
        "# Regularized Mini-batch Gradient Descent\n",
        "rmb_weights = numpy.ones(x_train.shape[1])\n",
        "rmb_weights, rmb_obj = mbgd(x_train, y_train, 1, 0.02, rmb_weights, max_epoch = 50)\n",
        "print(rmb_obj)"
      ]
    },
    {
      "cell_type": "code",
      "source": [
        "# Adding notes here as I play around with the model above\n",
        "# Note 1: Regularized term = 5 -> training data loss increases significantly, same with accuracy\n",
        "# Note 2: Regularized value: 0.5 ~ 1 seems to be consistent\n",
        "# Note 3: Epochs = 50 significantly improves training accuracy, I find this strange, shouldn't training increase regardless of epoch number\n",
        "#         and testing accuracy should decrease.\n",
        "# Result: After checking testing accuracy, ~ 1-2% decrease for all models\n",
        "#         Not that that accounts for much given how small the data set is & high the accuracy is. There's probably only 1 or 2 datapoints different.\n",
        "\n",
        "print(calc_accuracy(predict(lgr_weights, x_train), y_train))\n",
        "print(calc_accuracy(predict(r_lgr_weights, x_train), y_train))\n",
        "\n",
        "print(calc_accuracy(predict(slg_weights, x_train), y_train))\n",
        "print(calc_accuracy(predict(slgr_weights, x_train), y_train))\n",
        "\n",
        "print(calc_accuracy(predict(mb_weights, x_train), y_train))\n",
        "print(calc_accuracy(predict(rmb_weights, x_train), y_train))"
      ],
      "metadata": {
        "colab": {
          "base_uri": "https://localhost:8080/"
        },
        "id": "xKtu2qy3bw-8",
        "outputId": "4bb356e2-f77c-4879-a0de-9a4875796206"
      },
      "execution_count": null,
      "outputs": [
        {
          "output_type": "stream",
          "name": "stdout",
          "text": [
            "0.91428571428571425716569365249597467482089996337890625\n",
            "0.9494505494505494080925700473017059266567230224609375\n",
            "0.97362637362637360904926708826678805053234100341796875\n",
            "0.9472527472527472180985341765335761010646820068359375\n",
            "0.97582417582417579904330295903491787612438201904296875\n",
            "0.97362637362637360904926708826678805053234100341796875\n"
          ]
        }
      ]
    },
    {
      "cell_type": "code",
      "source": [
        "# evaluate testing error of logistic regression and regularized version\n",
        "\n",
        "print(calc_accuracy(predict(lgr_weights, x_test), y_test))\n",
        "print(calc_accuracy(predict(r_lgr_weights, x_test), y_test))\n",
        "\n",
        "print(calc_accuracy(predict(slg_weights, x_test), y_test))\n",
        "print(calc_accuracy(predict(slgr_weights, x_test), y_test))\n",
        "\n",
        "print(calc_accuracy(predict(mb_weights, x_test), y_test))\n",
        "print(calc_accuracy(predict(rmb_weights, x_test), y_test))"
      ],
      "metadata": {
        "colab": {
          "base_uri": "https://localhost:8080/"
        },
        "id": "P-I72ZsAeqT3",
        "outputId": "03481d02-eaf0-45de-f3a7-3a1c380bbf78"
      },
      "execution_count": null,
      "outputs": [
        {
          "output_type": "stream",
          "name": "stdout",
          "text": [
            "0.9298245614035087758253439460531808435916900634765625\n",
            "0.97368421052631581869007959539885632693767547607421875\n",
            "0.982456140350877138445184755255468189716339111328125\n",
            "0.982456140350877138445184755255468189716339111328125\n",
            "0.982456140350877138445184755255468189716339111328125\n",
            "0.9912280701754385692225923776277340948581695556640625\n"
          ]
        }
      ]
    }
  ],
  "metadata": {
    "kernelspec": {
      "display_name": "Python 3",
      "language": "python",
      "name": "python3"
    },
    "language_info": {
      "codemirror_mode": {
        "name": "ipython",
        "version": 3
      },
      "file_extension": ".py",
      "mimetype": "text/x-python",
      "name": "python",
      "nbconvert_exporter": "python",
      "pygments_lexer": "ipython3",
      "version": "3.10.9"
    },
    "vscode": {
      "interpreter": {
        "hash": "8a94588eda9d64d9e9a351ab8144e55b1fabf5113b54e67dd26a8c27df0381b3"
      }
    },
    "colab": {
      "provenance": []
    }
  },
  "nbformat": 4,
  "nbformat_minor": 0
}