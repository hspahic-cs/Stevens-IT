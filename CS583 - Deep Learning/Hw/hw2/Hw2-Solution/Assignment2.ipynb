{
  "cells": [
    {
      "cell_type": "markdown",
      "metadata": {
        "id": "rOaKNK-Pwg7n"
      },
      "source": [
        "# Assignment 2: Build a CNN for image recognition.\n",
        "\n",
        "## Due Date:  March 31, 11:59PM\n",
        "\n",
        "### Name: Harris Spahic\n"
      ]
    },
    {
      "cell_type": "markdown",
      "metadata": {
        "id": "Kj0pP2xawg7q"
      },
      "source": [
        "## Introduction:\n",
        "\n",
        "1. In this assignment, you will build Convolutional Neural Network to classify CIFAR-10 Images.\n",
        "2. You can directly load dataset from many deep learning packages.\n",
        "3. You can use any deep learning packages such as pytorch, keras or tensorflow for this assignment."
      ]
    },
    {
      "cell_type": "markdown",
      "metadata": {
        "id": "dax6aRirwg7q"
      },
      "source": [
        "## Requirements:\n",
        "\n",
        "1. You need to load cifar 10 data and split the entire training dataset into training and validation.\n",
        "2. You will implement a CNN model to classify cifar 10 images with provided structure.\n",
        "3. You need to plot the training and validation accuracy or loss obtained from above step.\n",
        "4. Then you can use tuned hyper-parameters to train using the entire training dataset.\n",
        "5. You should report the testing accuracy using the model with complete data.\n",
        "6. You may try to change the structure (e.g, add BN layer or dropout layer,...) and analyze your findings.\n",
        "\n",
        "## Google Colab\n",
        "\n",
        "- If you do not have GPU, the training of a CNN can be slow. Google Colab is a good option."
      ]
    },
    {
      "cell_type": "markdown",
      "metadata": {
        "id": "i14KW7Ttwg7q"
      },
      "source": [
        "## Batch Normalization (BN)"
      ]
    },
    {
      "cell_type": "markdown",
      "metadata": {
        "id": "k1kh6Xwvwg7r"
      },
      "source": [
        "### Background:"
      ]
    },
    {
      "cell_type": "markdown",
      "metadata": {
        "id": "zIagaZtfwg7r"
      },
      "source": [
        "- Batch Normalization is a technique to speed up training and help make the model more stable.\n",
        "- In simple words, batch normalization is just another network layer that gets inserted between a hidden layer and the next hidden layer. Its job is to take the outputs from the first hidden layer and normalize them before passing them on as the input of the next hidden layer.\n",
        "\n",
        "- For more detailed information, you may refer to the original paper: https://arxiv.org/pdf/1502.03167.pdf."
      ]
    },
    {
      "cell_type": "markdown",
      "metadata": {
        "id": "vRMdFtLJwg7r"
      },
      "source": [
        "### BN Algorithm:"
      ]
    },
    {
      "cell_type": "markdown",
      "metadata": {
        "id": "2QbCxDRNwg7r"
      },
      "source": [
        "- Input: Values of $x$ over a mini-batch: $\\mathbf{B}$ = $\\{x_1,..., x_m\\};$\n",
        "- Output: $\\{y_i = BN_{\\gamma,\\beta}(x_i)\\}$, $\\gamma, \\beta$ are learnable parameters\n",
        "\n",
        "Normalization of the Input:\n",
        "$$\\mu_{\\mathbf{B}} = \\frac{1}{m}\\sum_{i=1}^m x_i$$\n",
        "$$\\sigma_{\\mathbf{B}}^2 = \\frac{1}{m}\\sum_{i=1}^m (x_i - \\mu_{\\mathbf{B}})^2$$\n",
        "$$\\hat{x_i} = \\frac{x_i - \\mu_{\\mathbf{B}}}{\\sqrt{\\sigma_{\\mathbf{B}}}^2 + \\epsilon}$$\n",
        "Re-scaling and Offsetting:\n",
        "$$y_i = \\gamma \\hat{x_i} + \\beta = BN_{\\gamma,\\beta}(x_i)$$\n"
      ]
    },
    {
      "cell_type": "markdown",
      "metadata": {
        "id": "RZ_LWNt7wg7s"
      },
      "source": [
        "### Advantages of BN:\n",
        "1. Improves gradient flow through the network.\n",
        "2. Allows use of saturating nonlinearities and higher learning rates.\n",
        "3. Makes weights easier to initialize.\n",
        "4. Act as a form of regularization and may reduce the need for dropout."
      ]
    },
    {
      "cell_type": "markdown",
      "metadata": {
        "id": "4cxmr4i7wg7s"
      },
      "source": [
        "### Implementation:"
      ]
    },
    {
      "cell_type": "markdown",
      "metadata": {
        "id": "vCltquRHwg7t"
      },
      "source": [
        "- The batch normalization layer has already been implemented in many packages. You may simply call the function to build the layer. For example: torch.nn.BatchNorm2d() using pytroch package, keras.layers.BatchNormalization() using keras package.\n",
        "- The location of BN layer: Please make sure ```BatchNormalization``` is between a ```Conv```/```Dense``` layer and an ```activation``` layer."
      ]
    },
    {
      "cell_type": "markdown",
      "metadata": {
        "id": "80fWdi1Rwg7t"
      },
      "source": [
        "## 1. Data preparation"
      ]
    },
    {
      "cell_type": "markdown",
      "metadata": {
        "id": "fKCdp_87wg7t"
      },
      "source": [
        "### 1.1. Load data\n"
      ]
    },
    {
      "cell_type": "code",
      "execution_count": 31,
      "metadata": {
        "colab": {
          "base_uri": "https://localhost:8080/"
        },
        "id": "Rl90vyZZwg7t",
        "outputId": "793073a2-1892-4b8a-c8af-3f4ce67c8196"
      },
      "outputs": [
        {
          "output_type": "stream",
          "name": "stdout",
          "text": [
            "2.11.0\n",
            "shape of x_train: (50000, 32, 32, 3)\n",
            "shape of y_train: (50000, 1)\n",
            "shape of x_test: (10000, 32, 32, 3)\n",
            "shape of y_test: (10000, 1)\n",
            "number of classes: 10\n"
          ]
        }
      ],
      "source": [
        "# Load Cifar-10 Data\n",
        "# This is just an example, you may load dataset from other packages.\n",
        "import keras\n",
        "import numpy as np\n",
        "import tensorflow as tf\n",
        "\n",
        "print(keras.__version__)\n",
        "\n",
        "### If you can not load keras dataset, un-comment these two lines.\n",
        "# import ssl\n",
        "# ssl._create_default_https_context = ssl._create_unverified_context\n",
        "\n",
        "(x_train, y_train), (x_test, y_test) = tf.keras.datasets.cifar10.load_data()\n",
        "\n",
        "print('shape of x_train: ' + str(x_train.shape))\n",
        "print('shape of y_train: ' + str(y_train.shape))\n",
        "print('shape of x_test: ' + str(x_test.shape))\n",
        "print('shape of y_test: ' + str(y_test.shape))\n",
        "print('number of classes: ' + str(np.max(y_train) - np.min(y_train) + 1))"
      ]
    },
    {
      "cell_type": "markdown",
      "metadata": {
        "id": "F9P_4jzKwg7v"
      },
      "source": [
        "### 1.2. One-hot encode the labels (5 points)\n",
        "\n",
        "In the input, a label is a scalar in $\\{0, 1, \\cdots , 9\\}$. One-hot encode transform such a scalar to a $10$-dim vector. E.g., a scalar ```y_train[j]=3``` is transformed to the vector ```y_train_vec[j]=[0, 0, 0, 1, 0, 0, 0, 0, 0, 0]```.\n",
        "\n",
        "1. Implement a function ```to_one_hot``` that transforms an $n\\times 1$ array to a $n\\times 10$ matrix.\n",
        "\n",
        "2. Apply the function to ```y_train``` and ```y_test```."
      ]
    },
    {
      "cell_type": "code",
      "execution_count": 32,
      "metadata": {
        "colab": {
          "base_uri": "https://localhost:8080/"
        },
        "id": "0xX30EcQwg7v",
        "outputId": "a9886c6b-8ae0-495e-bf20-bbf2f7989deb"
      },
      "outputs": [
        {
          "output_type": "stream",
          "name": "stdout",
          "text": [
            "Shape of y_train_vec: (50000, 10)\n",
            "Shape of y_test_vec: (10000, 10)\n",
            "[6]\n",
            "[0. 0. 0. 0. 0. 0. 1. 0. 0. 0.]\n",
            "(50000, 1)\n",
            "(10000, 1)\n"
          ]
        }
      ],
      "source": [
        "def to_one_hot(y, num_class=10):\n",
        "  data = np.zeros((y.shape[0], num_class))\n",
        "  for i in range(y.shape[0]):\n",
        "    data[i, y[i]] = 1\n",
        "  return data\n",
        "\n",
        "y_train_vec = to_one_hot(y_train)\n",
        "y_test_vec = to_one_hot(y_test)\n",
        "\n",
        "print('Shape of y_train_vec: ' + str(y_train_vec.shape))\n",
        "print('Shape of y_test_vec: ' + str(y_test_vec.shape))\n",
        "\n",
        "print(y_train[0])\n",
        "print(y_train_vec[0])\n",
        "print(y_train.shape)\n",
        "print(y_test.shape)"
      ]
    },
    {
      "cell_type": "markdown",
      "metadata": {
        "id": "FOjqEetpwg7v"
      },
      "source": [
        "#### Remark: the outputs should be\n",
        "* Shape of y_train_vec: (50000, 10)\n",
        "* Shape of y_test_vec: (10000, 10)\n",
        "* [6]\n",
        "* [0. 0. 0. 0. 0. 0. 1. 0. 0. 0.]"
      ]
    },
    {
      "cell_type": "markdown",
      "metadata": {
        "id": "MIutzqiQwg7w"
      },
      "source": [
        "### 1.3. Randomly partition the training set to training and validation sets (5 points)\n",
        "\n",
        "Randomly partition the 50K training samples to 2 sets: \n",
        "* a training set containing 40K samples: x_tr, y_tr\n",
        "* a validation set containing 10K samples: x_val, y_val\n"
      ]
    },
    {
      "cell_type": "code",
      "execution_count": 33,
      "metadata": {
        "colab": {
          "base_uri": "https://localhost:8080/"
        },
        "id": "cNZynaHawg7w",
        "outputId": "34d5a5ac-8265-48cc-f447-0f58867015d4"
      },
      "outputs": [
        {
          "output_type": "stream",
          "name": "stdout",
          "text": [
            "Shape of x_tr: (40000, 32, 32, 3)\n",
            "Shape of y_tr: (40000, 10)\n",
            "Shape of x_val: (10000, 32, 32, 3)\n",
            "Shape of y_val: (10000, 10)\n"
          ]
        }
      ],
      "source": [
        "from sklearn.model_selection import train_test_split\n",
        "x_tr, x_val, y_tr, y_val = train_test_split(x_train, y_train_vec, test_size=0.2, random_state=42)\n",
        "\n",
        "print('Shape of x_tr: ' + str(x_tr.shape))\n",
        "print('Shape of y_tr: ' + str(y_tr.shape))\n",
        "print('Shape of x_val: ' + str(x_val.shape))\n",
        "print('Shape of y_val: ' + str(y_val.shape))"
      ]
    },
    {
      "cell_type": "markdown",
      "metadata": {
        "id": "vx34m1J3wg7w"
      },
      "source": [
        "## 2. Build a CNN and tune its hyper-parameters (50 points)\n",
        "\n",
        "- Build a convolutional neural network model using the below structure:\n",
        "\n",
        "- It should have a structure of: Conv - ReLU - Max Pool - ConV - ReLU - Max Pool - Dense - ReLU - Dense - Softmax\n",
        "\n",
        "- In the graph 3@32x32 means the dimension of input image, 32@30x30 means it has 32 filters and the dimension now becomes 30x30 after the convolution.\n",
        "- All convolutional layers (Conv) should have stride = 1 and no padding.\n",
        "- Max Pooling has a pool size of 2 by 2.\n",
        "\n",
        "\n"
      ]
    },
    {
      "cell_type": "markdown",
      "metadata": {
        "id": "vOOgf587wg7w"
      },
      "source": [
        "<img src=\"network.PNG\"/>"
      ]
    },
    {
      "cell_type": "markdown",
      "metadata": {
        "id": "3pz-HY_Vwg7w"
      },
      "source": [
        "- You may use the validation data to tune the hyper-parameters (e.g., learning rate, and optimization algorithm)\n",
        "- Do NOT use test data for hyper-parameter tuning!!!\n",
        "- Try to achieve a validation accuracy as high as possible."
      ]
    },
    {
      "cell_type": "code",
      "execution_count": 13,
      "metadata": {
        "id": "1S3QgfXGwg7w",
        "colab": {
          "base_uri": "https://localhost:8080/"
        },
        "outputId": "53847bef-ff8c-456c-8eea-7f7d9bf6c95f"
      },
      "outputs": [
        {
          "output_type": "stream",
          "name": "stdout",
          "text": [
            "Model: \"sequential_1\"\n",
            "_________________________________________________________________\n",
            " Layer (type)                Output Shape              Param #   \n",
            "=================================================================\n",
            " conv2d_2 (Conv2D)           (None, 30, 30, 32)        896       \n",
            "                                                                 \n",
            " max_pooling2d_2 (MaxPooling  (None, 15, 15, 32)       0         \n",
            " 2D)                                                             \n",
            "                                                                 \n",
            " conv2d_3 (Conv2D)           (None, 12, 12, 64)        32832     \n",
            "                                                                 \n",
            " max_pooling2d_3 (MaxPooling  (None, 6, 6, 64)         0         \n",
            " 2D)                                                             \n",
            "                                                                 \n",
            " flatten_1 (Flatten)         (None, 2304)              0         \n",
            "                                                                 \n",
            " dense_2 (Dense)             (None, 256)               590080    \n",
            "                                                                 \n",
            " dense_3 (Dense)             (None, 10)                2570      \n",
            "                                                                 \n",
            "=================================================================\n",
            "Total params: 626,378\n",
            "Trainable params: 626,378\n",
            "Non-trainable params: 0\n",
            "_________________________________________________________________\n"
          ]
        }
      ],
      "source": [
        "# Build the model\n",
        "from keras import models\n",
        "from keras import layers\n",
        "\n",
        "model = models.Sequential()\n",
        "model.add(layers.Conv2D(32, (3,3), activation='relu', input_shape =(32,32,3)))\n",
        "model.add(layers.MaxPooling2D((2,2)))\n",
        "model.add(layers.Conv2D(64, (4,4), activation='relu'))\n",
        "model.add(layers.MaxPooling2D((2,2)))\n",
        "model.add(layers.Flatten())\n",
        "model.add(layers.Dense(256, activation=\"relu\"))\n",
        "model.add(layers.Dense(10, activation=\"softmax\"))\n",
        "\n",
        "model.summary()"
      ]
    },
    {
      "cell_type": "code",
      "execution_count": 6,
      "metadata": {
        "colab": {
          "base_uri": "https://localhost:8080/"
        },
        "id": "0PZGWFpMwg7x",
        "outputId": "3cab1e1c-db9c-4a91-8bd5-a49fcccaf740"
      },
      "outputs": [
        {
          "output_type": "stream",
          "name": "stderr",
          "text": [
            "/usr/local/lib/python3.9/dist-packages/keras/optimizers/optimizer_v2/rmsprop.py:143: UserWarning: The `lr` argument is deprecated, use `learning_rate` instead.\n",
            "  super().__init__(name, **kwargs)\n"
          ]
        }
      ],
      "source": [
        "# Define model optimizer and loss function\n",
        "from keras import optimizers\n",
        "\n",
        "model.compile(optimizers.RMSprop(lr=0.001),\n",
        "              loss='categorical_crossentropy',\n",
        "              metrics=[\"accuracy\"])\n",
        "\n"
      ]
    },
    {
      "cell_type": "code",
      "execution_count": 8,
      "metadata": {
        "colab": {
          "base_uri": "https://localhost:8080/"
        },
        "id": "PTmw5FVPwg7x",
        "outputId": "c75d88ea-e509-45a9-be90-9a0ad06cd782"
      },
      "outputs": [
        {
          "output_type": "stream",
          "name": "stdout",
          "text": [
            "Epoch 1/50\n",
            "313/313 [==============================] - 2s 7ms/step - loss: 0.5285 - accuracy: 0.8225 - val_loss: 1.9744 - val_accuracy: 0.5990\n",
            "Epoch 2/50\n",
            "313/313 [==============================] - 2s 7ms/step - loss: 0.4607 - accuracy: 0.8490 - val_loss: 2.2082 - val_accuracy: 0.6060\n",
            "Epoch 3/50\n",
            "313/313 [==============================] - 2s 6ms/step - loss: 0.4079 - accuracy: 0.8664 - val_loss: 2.5237 - val_accuracy: 0.5622\n",
            "Epoch 4/50\n",
            "313/313 [==============================] - 2s 8ms/step - loss: 0.3547 - accuracy: 0.8851 - val_loss: 2.7454 - val_accuracy: 0.6270\n",
            "Epoch 5/50\n",
            "313/313 [==============================] - 2s 6ms/step - loss: 0.3124 - accuracy: 0.9025 - val_loss: 2.4792 - val_accuracy: 0.5892\n",
            "Epoch 6/50\n",
            "313/313 [==============================] - 2s 6ms/step - loss: 0.2933 - accuracy: 0.9083 - val_loss: 2.6315 - val_accuracy: 0.6040\n",
            "Epoch 7/50\n",
            "313/313 [==============================] - 2s 6ms/step - loss: 0.2632 - accuracy: 0.9207 - val_loss: 3.0573 - val_accuracy: 0.5822\n",
            "Epoch 8/50\n",
            "313/313 [==============================] - 2s 6ms/step - loss: 0.2516 - accuracy: 0.9256 - val_loss: 2.8532 - val_accuracy: 0.5960\n",
            "Epoch 9/50\n",
            "313/313 [==============================] - 3s 9ms/step - loss: 0.2423 - accuracy: 0.9307 - val_loss: 3.2943 - val_accuracy: 0.6105\n",
            "Epoch 10/50\n",
            "313/313 [==============================] - 2s 7ms/step - loss: 0.2259 - accuracy: 0.9368 - val_loss: 3.2176 - val_accuracy: 0.5919\n",
            "Epoch 11/50\n",
            "313/313 [==============================] - 2s 6ms/step - loss: 0.2285 - accuracy: 0.9377 - val_loss: 3.9767 - val_accuracy: 0.6202\n",
            "Epoch 12/50\n",
            "313/313 [==============================] - 2s 6ms/step - loss: 0.2199 - accuracy: 0.9406 - val_loss: 5.2430 - val_accuracy: 0.6233\n",
            "Epoch 13/50\n",
            "313/313 [==============================] - 2s 6ms/step - loss: 0.2123 - accuracy: 0.9464 - val_loss: 4.0394 - val_accuracy: 0.6238\n",
            "Epoch 14/50\n",
            "313/313 [==============================] - 2s 6ms/step - loss: 0.2064 - accuracy: 0.9481 - val_loss: 4.5951 - val_accuracy: 0.6333\n",
            "Epoch 15/50\n",
            "313/313 [==============================] - 2s 7ms/step - loss: 0.1898 - accuracy: 0.9515 - val_loss: 4.5593 - val_accuracy: 0.6202\n",
            "Epoch 16/50\n",
            "313/313 [==============================] - 2s 8ms/step - loss: 0.1948 - accuracy: 0.9539 - val_loss: 4.4597 - val_accuracy: 0.6373\n",
            "Epoch 17/50\n",
            "313/313 [==============================] - 2s 6ms/step - loss: 0.1925 - accuracy: 0.9541 - val_loss: 5.4289 - val_accuracy: 0.6300\n",
            "Epoch 18/50\n",
            "313/313 [==============================] - 3s 8ms/step - loss: 0.2083 - accuracy: 0.9552 - val_loss: 5.6901 - val_accuracy: 0.6226\n",
            "Epoch 19/50\n",
            "313/313 [==============================] - 2s 6ms/step - loss: 0.1889 - accuracy: 0.9567 - val_loss: 5.6716 - val_accuracy: 0.6218\n",
            "Epoch 20/50\n",
            "313/313 [==============================] - 2s 6ms/step - loss: 0.1862 - accuracy: 0.9588 - val_loss: 5.0540 - val_accuracy: 0.5696\n",
            "Epoch 21/50\n",
            "313/313 [==============================] - 2s 7ms/step - loss: 0.1957 - accuracy: 0.9565 - val_loss: 5.6190 - val_accuracy: 0.6180\n",
            "Epoch 22/50\n",
            "313/313 [==============================] - 2s 7ms/step - loss: 0.1880 - accuracy: 0.9603 - val_loss: 5.8678 - val_accuracy: 0.5988\n",
            "Epoch 23/50\n",
            "313/313 [==============================] - 2s 6ms/step - loss: 0.1826 - accuracy: 0.9621 - val_loss: 6.9781 - val_accuracy: 0.6363\n",
            "Epoch 24/50\n",
            "313/313 [==============================] - 2s 6ms/step - loss: 0.1852 - accuracy: 0.9619 - val_loss: 5.9495 - val_accuracy: 0.5888\n",
            "Epoch 25/50\n",
            "313/313 [==============================] - 2s 7ms/step - loss: 0.1901 - accuracy: 0.9620 - val_loss: 6.0192 - val_accuracy: 0.6349\n",
            "Epoch 26/50\n",
            "313/313 [==============================] - 2s 6ms/step - loss: 0.1828 - accuracy: 0.9642 - val_loss: 6.8463 - val_accuracy: 0.6201\n",
            "Epoch 27/50\n",
            "313/313 [==============================] - 2s 7ms/step - loss: 0.1842 - accuracy: 0.9637 - val_loss: 6.1970 - val_accuracy: 0.5985\n",
            "Epoch 28/50\n",
            "313/313 [==============================] - 2s 7ms/step - loss: 0.1755 - accuracy: 0.9653 - val_loss: 6.1838 - val_accuracy: 0.6043\n",
            "Epoch 29/50\n",
            "313/313 [==============================] - 2s 7ms/step - loss: 0.1813 - accuracy: 0.9661 - val_loss: 7.0634 - val_accuracy: 0.6298\n",
            "Epoch 30/50\n",
            "313/313 [==============================] - 2s 6ms/step - loss: 0.1839 - accuracy: 0.9666 - val_loss: 7.2935 - val_accuracy: 0.6273\n",
            "Epoch 31/50\n",
            "313/313 [==============================] - 2s 6ms/step - loss: 0.1780 - accuracy: 0.9676 - val_loss: 8.5568 - val_accuracy: 0.6288\n",
            "Epoch 32/50\n",
            "313/313 [==============================] - 2s 7ms/step - loss: 0.1903 - accuracy: 0.9660 - val_loss: 8.1757 - val_accuracy: 0.6300\n",
            "Epoch 33/50\n",
            "313/313 [==============================] - 2s 8ms/step - loss: 0.1821 - accuracy: 0.9692 - val_loss: 7.2146 - val_accuracy: 0.5912\n",
            "Epoch 34/50\n",
            "313/313 [==============================] - 2s 6ms/step - loss: 0.1729 - accuracy: 0.9714 - val_loss: 8.0384 - val_accuracy: 0.6269\n",
            "Epoch 35/50\n",
            "313/313 [==============================] - 2s 6ms/step - loss: 0.1742 - accuracy: 0.9704 - val_loss: 8.5595 - val_accuracy: 0.6268\n",
            "Epoch 36/50\n",
            "313/313 [==============================] - 2s 7ms/step - loss: 0.1754 - accuracy: 0.9717 - val_loss: 10.1798 - val_accuracy: 0.6324\n",
            "Epoch 37/50\n",
            "313/313 [==============================] - 2s 6ms/step - loss: 0.1855 - accuracy: 0.9708 - val_loss: 8.7316 - val_accuracy: 0.6315\n",
            "Epoch 38/50\n",
            "313/313 [==============================] - 2s 6ms/step - loss: 0.1768 - accuracy: 0.9722 - val_loss: 9.6087 - val_accuracy: 0.6375\n",
            "Epoch 39/50\n",
            "313/313 [==============================] - 2s 7ms/step - loss: 0.1917 - accuracy: 0.9718 - val_loss: 10.9715 - val_accuracy: 0.6127\n",
            "Epoch 40/50\n",
            "313/313 [==============================] - 2s 7ms/step - loss: 0.1848 - accuracy: 0.9726 - val_loss: 10.6998 - val_accuracy: 0.6362\n",
            "Epoch 41/50\n",
            "313/313 [==============================] - 2s 6ms/step - loss: 0.1838 - accuracy: 0.9729 - val_loss: 10.8837 - val_accuracy: 0.5974\n",
            "Epoch 42/50\n",
            "313/313 [==============================] - 2s 6ms/step - loss: 0.1933 - accuracy: 0.9721 - val_loss: 9.3141 - val_accuracy: 0.6176\n",
            "Epoch 43/50\n",
            "313/313 [==============================] - 2s 6ms/step - loss: 0.1651 - accuracy: 0.9762 - val_loss: 10.8495 - val_accuracy: 0.6108\n",
            "Epoch 44/50\n",
            "313/313 [==============================] - 2s 6ms/step - loss: 0.1888 - accuracy: 0.9737 - val_loss: 9.5657 - val_accuracy: 0.6190\n",
            "Epoch 45/50\n",
            "313/313 [==============================] - 3s 8ms/step - loss: 0.1834 - accuracy: 0.9749 - val_loss: 10.0053 - val_accuracy: 0.6453\n",
            "Epoch 46/50\n",
            "313/313 [==============================] - 2s 7ms/step - loss: 0.1720 - accuracy: 0.9765 - val_loss: 11.0035 - val_accuracy: 0.6130\n",
            "Epoch 47/50\n",
            "313/313 [==============================] - 2s 6ms/step - loss: 0.1744 - accuracy: 0.9762 - val_loss: 10.5095 - val_accuracy: 0.6430\n",
            "Epoch 48/50\n",
            "313/313 [==============================] - 2s 6ms/step - loss: 0.1827 - accuracy: 0.9755 - val_loss: 11.2434 - val_accuracy: 0.6431\n",
            "Epoch 49/50\n",
            "313/313 [==============================] - 2s 6ms/step - loss: 0.1935 - accuracy: 0.9759 - val_loss: 11.0439 - val_accuracy: 0.6370\n",
            "Epoch 50/50\n",
            "313/313 [==============================] - 2s 6ms/step - loss: 0.1884 - accuracy: 0.9746 - val_loss: 12.3102 - val_accuracy: 0.6417\n"
          ]
        }
      ],
      "source": [
        "# Train the model and store model parameters/loss values\n",
        "history = model.fit(x_tr, y_tr, batch_size=128, epochs=50, validation_data=(x_val, y_val))\n",
        "\n",
        "# Why is the batch_size=128?\n",
        "# Why is the epochs = 50? -> Epochs are hyperparameters\n"
      ]
    },
    {
      "cell_type": "markdown",
      "metadata": {
        "id": "RkTdvWpRwg7x"
      },
      "source": [
        "## 3. Plot the training and validation loss curve versus epochs. (5 points)"
      ]
    },
    {
      "cell_type": "code",
      "execution_count": 9,
      "metadata": {
        "colab": {
          "base_uri": "https://localhost:8080/",
          "height": 466
        },
        "id": "2SWOJayjwg7x",
        "outputId": "bc90d658-75b5-4698-f600-20fc0d5b7476"
      },
      "outputs": [
        {
          "output_type": "stream",
          "name": "stdout",
          "text": [
            "dict_keys(['loss', 'accuracy', 'val_loss', 'val_accuracy'])\n"
          ]
        },
        {
          "output_type": "display_data",
          "data": {
            "text/plain": [
              "<Figure size 640x480 with 1 Axes>"
            ],
            "image/png": "[encoded data removed]"
          },
          "metadata": {}
        }
      ],
      "source": [
        "# Plot the loss curve\n",
        "import matplotlib.pyplot as plt\n",
        "%matplotlib inline \n",
        "#Makes it so plot is only dependent on this block\n",
        "\n",
        "epochs = range(50)\n",
        "print(history.history.keys())\n",
        "train_acc = history.history['loss']\n",
        "valid_acc = history.history['val_loss']\n",
        "plt.plot(epochs, train_acc, 'bo', label=\"Training loss\")\n",
        "plt.plot(epochs, valid_acc, 'r', label=\"Validation loss\")\n",
        "plt.xlabel('Epochs')\n",
        "plt.ylabel('Loss')\n",
        "plt.legend()\n",
        "plt.show()"
      ]
    },
    {
      "cell_type": "markdown",
      "metadata": {
        "id": "m_Vym_iTwg7x"
      },
      "source": [
        "## 4. Train (again) and evaluate the model (5 points)\n",
        "\n",
        "- To this end, you have found the \"best\" hyper-parameters. \n",
        "- Now, fix the hyper-parameters and train the network on the entire training set (all the 50K training samples)\n",
        "- Evaluate your model on the test set."
      ]
    },
    {
      "cell_type": "markdown",
      "metadata": {
        "id": "eHpvp94ywg7x"
      },
      "source": [
        "### Train the model on the entire training set\n",
        "\n",
        "Why? Previously, you used 40K samples for training; you wasted 10K samples for the sake of hyper-parameter tuning. Now you already know the hyper-parameters, so why not using all the 50K samples for training?"
      ]
    },
    {
      "cell_type": "code",
      "execution_count": 10,
      "metadata": {
        "id": "-CC_uu7Twg7x"
      },
      "outputs": [],
      "source": [
        "#<Compile your model again (using the same hyper-parameters you tuned above)>\n",
        "from keras import optimizers\n",
        "\n",
        "model.compile(optimizers.RMSprop(learning_rate=0.0001),\n",
        "              loss='categorical_crossentropy',\n",
        "              metrics=[\"accuracy\"])"
      ]
    },
    {
      "cell_type": "code",
      "execution_count": 11,
      "metadata": {
        "colab": {
          "base_uri": "https://localhost:8080/"
        },
        "id": "DV45G9Ggwg7x",
        "outputId": "29f32081-3c32-4538-dca1-21e16d3289e6"
      },
      "outputs": [
        {
          "output_type": "stream",
          "name": "stdout",
          "text": [
            "Epoch 1/25\n",
            "391/391 [==============================] - 3s 6ms/step - loss: 1.4066 - accuracy: 0.8806\n",
            "Epoch 2/25\n",
            "391/391 [==============================] - 3s 7ms/step - loss: 0.9161 - accuracy: 0.8838\n",
            "Epoch 3/25\n",
            "391/391 [==============================] - 2s 5ms/step - loss: 0.7182 - accuracy: 0.8972\n",
            "Epoch 4/25\n",
            "391/391 [==============================] - 2s 5ms/step - loss: 0.5891 - accuracy: 0.9088\n",
            "Epoch 5/25\n",
            "391/391 [==============================] - 2s 5ms/step - loss: 0.4925 - accuracy: 0.9204\n",
            "Epoch 6/25\n",
            "391/391 [==============================] - 2s 6ms/step - loss: 0.4167 - accuracy: 0.9280\n",
            "Epoch 7/25\n",
            "391/391 [==============================] - 3s 6ms/step - loss: 0.3548 - accuracy: 0.9368\n",
            "Epoch 8/25\n",
            "391/391 [==============================] - 2s 6ms/step - loss: 0.3043 - accuracy: 0.9441\n",
            "Epoch 9/25\n",
            "391/391 [==============================] - 2s 5ms/step - loss: 0.2617 - accuracy: 0.9505\n",
            "Epoch 10/25\n",
            "391/391 [==============================] - 2s 6ms/step - loss: 0.2279 - accuracy: 0.9555\n",
            "Epoch 11/25\n",
            "391/391 [==============================] - 2s 5ms/step - loss: 0.1986 - accuracy: 0.9603\n",
            "Epoch 12/25\n",
            "391/391 [==============================] - 2s 6ms/step - loss: 0.1738 - accuracy: 0.9651\n",
            "Epoch 13/25\n",
            "391/391 [==============================] - 3s 6ms/step - loss: 0.1513 - accuracy: 0.9694\n",
            "Epoch 14/25\n",
            "391/391 [==============================] - 2s 5ms/step - loss: 0.1336 - accuracy: 0.9716\n",
            "Epoch 15/25\n",
            "391/391 [==============================] - 2s 5ms/step - loss: 0.1169 - accuracy: 0.9746\n",
            "Epoch 16/25\n",
            "391/391 [==============================] - 2s 5ms/step - loss: 0.1045 - accuracy: 0.9769\n",
            "Epoch 17/25\n",
            "391/391 [==============================] - 2s 5ms/step - loss: 0.0926 - accuracy: 0.9796\n",
            "Epoch 18/25\n",
            "391/391 [==============================] - 2s 6ms/step - loss: 0.0815 - accuracy: 0.9810\n",
            "Epoch 19/25\n",
            "391/391 [==============================] - 2s 6ms/step - loss: 0.0721 - accuracy: 0.9835\n",
            "Epoch 20/25\n",
            "391/391 [==============================] - 2s 5ms/step - loss: 0.0641 - accuracy: 0.9847\n",
            "Epoch 21/25\n",
            "391/391 [==============================] - 2s 5ms/step - loss: 0.0569 - accuracy: 0.9859\n",
            "Epoch 22/25\n",
            "391/391 [==============================] - 2s 5ms/step - loss: 0.0517 - accuracy: 0.9875\n",
            "Epoch 23/25\n",
            "391/391 [==============================] - 2s 5ms/step - loss: 0.0447 - accuracy: 0.9881\n",
            "Epoch 24/25\n",
            "391/391 [==============================] - 3s 7ms/step - loss: 0.0393 - accuracy: 0.9897\n",
            "Epoch 25/25\n",
            "391/391 [==============================] - 2s 5ms/step - loss: 0.0342 - accuracy: 0.9911\n"
          ]
        }
      ],
      "source": [
        "#<Train your model on the entire training set (50K samples)>\n",
        "history = model.fit(x_train, y_train_vec, batch_size=128, epochs=25)"
      ]
    },
    {
      "cell_type": "markdown",
      "metadata": {
        "id": "tfH0d7GUwg7y"
      },
      "source": [
        "## 5. Evaluate the model on the test set (5 points)\n",
        "\n",
        "Do NOT use the test set until now. Make sure that your model parameters and hyper-parameters are independent of the test set."
      ]
    },
    {
      "cell_type": "code",
      "execution_count": 12,
      "metadata": {
        "colab": {
          "base_uri": "https://localhost:8080/"
        },
        "id": "92LXDQjHwg7y",
        "outputId": "3452d2c8-c341-44ed-9df4-deccff6c0760"
      },
      "outputs": [
        {
          "output_type": "stream",
          "name": "stdout",
          "text": [
            "313/313 [==============================] - 1s 3ms/step - loss: 6.1628 - accuracy: 0.6456\n"
          ]
        }
      ],
      "source": [
        "# Evaluate your model performance (testing accuracy) on testing data.\n",
        "loss_and_acc = model.evaluate(x_test, y_test_vec)\n"
      ]
    },
    {
      "cell_type": "markdown",
      "metadata": {
        "id": "X4zeGCrZwg7y"
      },
      "source": [
        "## 6. Building model with new structure (25 points)\n",
        "- In this section, you can build your model with adding new layers (e.g, BN layer or dropout layer, ...).\n",
        "- If you want to regularize a ```Conv/Dense layer```, you should place a ```Dropout layer``` before the ```Conv/Dense layer```.\n",
        "- You can try to compare their loss curve and testing accuracy and analyze your findings.\n",
        "- You need to try at lease two different model structures."
      ]
    },
    {
      "cell_type": "code",
      "execution_count": 14,
      "metadata": {
        "id": "REcFnUs8wg7y"
      },
      "outputs": [],
      "source": [
        "# Idea1: Implement BN between every set of two layers and switch optimizer to Adam due to dense data\n",
        "model2 = models.Sequential()\n",
        "model2.add(layers.BatchNormalization())\n",
        "model2.add(layers.Conv2D(32, (3,3), activation='relu', input_shape=(32,32,3)))\n",
        "model2.add(layers.MaxPooling2D((2, 2)))\n",
        "model2.add(layers.BatchNormalization())\n",
        "model2.add(layers.Conv2D(64, (6,6), activation='relu'))\n",
        "model2.add(layers.MaxPooling2D((2, 2)))\n",
        "model2.add(layers.Flatten())\n",
        "model2.add(layers.BatchNormalization())\n",
        "model2.add(layers.Dense(256, activation=\"relu\"))\n",
        "model2.add(layers.Dense(10, activation=\"softmax\"))"
      ]
    },
    {
      "cell_type": "code",
      "execution_count": 16,
      "metadata": {
        "colab": {
          "base_uri": "https://localhost:8080/"
        },
        "id": "tKMPbrmB_xdi",
        "outputId": "50d834c1-cbe0-4ae4-e8d2-b240a4410217"
      },
      "outputs": [
        {
          "output_type": "stream",
          "name": "stdout",
          "text": [
            "Epoch 1/25\n",
            "400/400 [==============================] - 4s 7ms/step - loss: 1.3525 - accuracy: 0.5411 - val_loss: 1.2666 - val_accuracy: 0.5699\n",
            "Epoch 2/25\n",
            "400/400 [==============================] - 2s 6ms/step - loss: 0.8854 - accuracy: 0.6928 - val_loss: 0.9034 - val_accuracy: 0.6864\n",
            "Epoch 3/25\n",
            "400/400 [==============================] - 3s 7ms/step - loss: 0.6775 - accuracy: 0.7644 - val_loss: 0.8798 - val_accuracy: 0.7053\n",
            "Epoch 4/25\n",
            "400/400 [==============================] - 3s 6ms/step - loss: 0.5347 - accuracy: 0.8127 - val_loss: 0.8810 - val_accuracy: 0.7100\n",
            "Epoch 5/25\n",
            "400/400 [==============================] - 2s 6ms/step - loss: 0.4149 - accuracy: 0.8549 - val_loss: 0.9651 - val_accuracy: 0.7045\n",
            "Epoch 6/25\n",
            "400/400 [==============================] - 2s 6ms/step - loss: 0.3168 - accuracy: 0.8912 - val_loss: 0.9679 - val_accuracy: 0.7120\n",
            "Epoch 7/25\n",
            "400/400 [==============================] - 2s 6ms/step - loss: 0.2313 - accuracy: 0.9210 - val_loss: 1.0725 - val_accuracy: 0.7154\n",
            "Epoch 8/25\n",
            "400/400 [==============================] - 3s 8ms/step - loss: 0.1790 - accuracy: 0.9389 - val_loss: 1.1378 - val_accuracy: 0.7100\n",
            "Epoch 9/25\n",
            "400/400 [==============================] - 2s 6ms/step - loss: 0.1511 - accuracy: 0.9478 - val_loss: 1.2360 - val_accuracy: 0.7100\n",
            "Epoch 10/25\n",
            "400/400 [==============================] - 2s 6ms/step - loss: 0.1324 - accuracy: 0.9555 - val_loss: 1.3331 - val_accuracy: 0.7070\n",
            "Epoch 11/25\n",
            "400/400 [==============================] - 2s 6ms/step - loss: 0.1144 - accuracy: 0.9603 - val_loss: 1.3810 - val_accuracy: 0.7000\n",
            "Epoch 12/25\n",
            "400/400 [==============================] - 2s 6ms/step - loss: 0.1015 - accuracy: 0.9639 - val_loss: 1.4186 - val_accuracy: 0.7102\n",
            "Epoch 13/25\n",
            "400/400 [==============================] - 3s 8ms/step - loss: 0.0975 - accuracy: 0.9664 - val_loss: 1.4334 - val_accuracy: 0.7126\n",
            "Epoch 14/25\n",
            "400/400 [==============================] - 2s 6ms/step - loss: 0.0881 - accuracy: 0.9699 - val_loss: 1.5882 - val_accuracy: 0.7044\n",
            "Epoch 15/25\n",
            "400/400 [==============================] - 2s 6ms/step - loss: 0.0711 - accuracy: 0.9757 - val_loss: 1.5982 - val_accuracy: 0.7091\n",
            "Epoch 16/25\n",
            "400/400 [==============================] - 2s 6ms/step - loss: 0.0790 - accuracy: 0.9722 - val_loss: 1.6171 - val_accuracy: 0.7054\n",
            "Epoch 17/25\n",
            "400/400 [==============================] - 2s 6ms/step - loss: 0.0759 - accuracy: 0.9740 - val_loss: 1.6936 - val_accuracy: 0.7134\n",
            "Epoch 18/25\n",
            "400/400 [==============================] - 3s 7ms/step - loss: 0.0641 - accuracy: 0.9780 - val_loss: 1.7140 - val_accuracy: 0.7135\n",
            "Epoch 19/25\n",
            "400/400 [==============================] - 2s 6ms/step - loss: 0.0767 - accuracy: 0.9732 - val_loss: 1.7751 - val_accuracy: 0.7037\n",
            "Epoch 20/25\n",
            "400/400 [==============================] - 2s 6ms/step - loss: 0.0772 - accuracy: 0.9732 - val_loss: 1.8707 - val_accuracy: 0.6967\n",
            "Epoch 21/25\n",
            "400/400 [==============================] - 2s 6ms/step - loss: 0.0596 - accuracy: 0.9790 - val_loss: 1.8236 - val_accuracy: 0.7074\n",
            "Epoch 22/25\n",
            "400/400 [==============================] - 2s 6ms/step - loss: 0.0499 - accuracy: 0.9828 - val_loss: 1.8795 - val_accuracy: 0.7155\n",
            "Epoch 23/25\n",
            "400/400 [==============================] - 3s 8ms/step - loss: 0.0520 - accuracy: 0.9818 - val_loss: 1.9943 - val_accuracy: 0.7037\n",
            "Epoch 24/25\n",
            "400/400 [==============================] - 2s 6ms/step - loss: 0.0655 - accuracy: 0.9772 - val_loss: 1.9222 - val_accuracy: 0.7095\n",
            "Epoch 25/25\n",
            "400/400 [==============================] - 2s 6ms/step - loss: 0.0619 - accuracy: 0.9790 - val_loss: 1.9364 - val_accuracy: 0.7047\n"
          ]
        }
      ],
      "source": [
        "model2.compile(optimizers.Adam(),\n",
        "              loss='categorical_crossentropy',\n",
        "              metrics=[\"accuracy\"])\n",
        "\n",
        "history2 = model2.fit(x_tr, y_tr, batch_size=100, epochs=25, validation_data=(x_val, y_val))"
      ]
    },
    {
      "cell_type": "code",
      "execution_count": 17,
      "metadata": {
        "colab": {
          "base_uri": "https://localhost:8080/",
          "height": 466
        },
        "id": "lRReYzGBA5UW",
        "outputId": "34c5b024-01c5-4307-c3dc-8a268bbb7dac"
      },
      "outputs": [
        {
          "output_type": "stream",
          "name": "stdout",
          "text": [
            "dict_keys(['loss', 'accuracy', 'val_loss', 'val_accuracy'])\n"
          ]
        },
        {
          "output_type": "display_data",
          "data": {
            "text/plain": [
              "<Figure size 640x480 with 1 Axes>"
            ],
            "image/png": "[encoded data removed]"
          },
          "metadata": {}
        }
      ],
      "source": [
        "# Plot the loss curve\n",
        "import matplotlib.pyplot as plt\n",
        "%matplotlib inline \n",
        "#Makes it so plot is only dependent on this block\n",
        "\n",
        "epochs = range(25)\n",
        "print(history2.history.keys())\n",
        "train_acc = history2.history['loss']\n",
        "valid_acc = history2.history['val_loss']\n",
        "plt.plot(epochs, train_acc, 'bo', label=\"Training loss\")\n",
        "plt.plot(epochs, valid_acc, 'r', label=\"Validation loss\")\n",
        "plt.xlabel('Epochs')\n",
        "plt.ylabel('Loss')\n",
        "plt.legend()\n",
        "plt.show()"
      ]
    },
    {
      "cell_type": "code",
      "source": [
        "model2.fit(x_train, y_train_vec, epochs=25, batch_size=128)\n",
        "loss_and_acc = model2.evaluate(x_test, y_test_vec)"
      ],
      "metadata": {
        "colab": {
          "base_uri": "https://localhost:8080/"
        },
        "id": "DrpAKjgRDPb9",
        "outputId": "05fb073c-dcf5-45f9-e249-fba07497ee7a"
      },
      "execution_count": 40,
      "outputs": [
        {
          "output_type": "stream",
          "name": "stdout",
          "text": [
            "Epoch 1/25\n",
            "391/391 [==============================] - 2s 6ms/step - loss: 0.4351 - accuracy: 0.8998\n",
            "Epoch 2/25\n",
            "391/391 [==============================] - 2s 6ms/step - loss: 0.1891 - accuracy: 0.9478\n",
            "Epoch 3/25\n",
            "391/391 [==============================] - 2s 6ms/step - loss: 0.1090 - accuracy: 0.9690\n",
            "Epoch 4/25\n",
            "391/391 [==============================] - 3s 6ms/step - loss: 0.0671 - accuracy: 0.9806\n",
            "Epoch 5/25\n",
            "391/391 [==============================] - 3s 6ms/step - loss: 0.0442 - accuracy: 0.9869\n",
            "Epoch 6/25\n",
            "391/391 [==============================] - 2s 6ms/step - loss: 0.0417 - accuracy: 0.9867\n",
            "Epoch 7/25\n",
            "391/391 [==============================] - 2s 6ms/step - loss: 0.0606 - accuracy: 0.9795\n",
            "Epoch 8/25\n",
            "391/391 [==============================] - 2s 6ms/step - loss: 0.0601 - accuracy: 0.9798\n",
            "Epoch 9/25\n",
            "391/391 [==============================] - 2s 6ms/step - loss: 0.0444 - accuracy: 0.9849\n",
            "Epoch 10/25\n",
            "391/391 [==============================] - 3s 7ms/step - loss: 0.0485 - accuracy: 0.9836\n",
            "Epoch 11/25\n",
            "391/391 [==============================] - 2s 6ms/step - loss: 0.0551 - accuracy: 0.9807\n",
            "Epoch 12/25\n",
            "391/391 [==============================] - 2s 6ms/step - loss: 0.0365 - accuracy: 0.9874\n",
            "Epoch 13/25\n",
            "391/391 [==============================] - 2s 6ms/step - loss: 0.0371 - accuracy: 0.9874\n",
            "Epoch 14/25\n",
            "391/391 [==============================] - 2s 6ms/step - loss: 0.0427 - accuracy: 0.9856\n",
            "Epoch 15/25\n",
            "391/391 [==============================] - 3s 7ms/step - loss: 0.0380 - accuracy: 0.9881\n",
            "Epoch 16/25\n",
            "391/391 [==============================] - 2s 6ms/step - loss: 0.0374 - accuracy: 0.9873\n",
            "Epoch 17/25\n",
            "391/391 [==============================] - 2s 6ms/step - loss: 0.0323 - accuracy: 0.9889\n",
            "Epoch 18/25\n",
            "391/391 [==============================] - 2s 6ms/step - loss: 0.0342 - accuracy: 0.9888\n",
            "Epoch 19/25\n",
            "391/391 [==============================] - 2s 6ms/step - loss: 0.0410 - accuracy: 0.9865\n",
            "Epoch 20/25\n",
            "391/391 [==============================] - 3s 7ms/step - loss: 0.0409 - accuracy: 0.9859\n",
            "Epoch 21/25\n",
            "391/391 [==============================] - 2s 6ms/step - loss: 0.0286 - accuracy: 0.9908\n",
            "Epoch 22/25\n",
            "391/391 [==============================] - 2s 6ms/step - loss: 0.0423 - accuracy: 0.9861\n",
            "Epoch 23/25\n",
            "391/391 [==============================] - 2s 6ms/step - loss: 0.0329 - accuracy: 0.9890\n",
            "Epoch 24/25\n",
            "391/391 [==============================] - 2s 6ms/step - loss: 0.0260 - accuracy: 0.9916\n",
            "Epoch 25/25\n",
            "391/391 [==============================] - 3s 7ms/step - loss: 0.0373 - accuracy: 0.9879\n",
            "313/313 [==============================] - 1s 3ms/step - loss: 2.7875 - accuracy: 0.7052\n"
          ]
        }
      ]
    },
    {
      "cell_type": "code",
      "source": [
        "# Idea2: Implement BN on first layer\n",
        "model3 = models.Sequential()\n",
        "model3.add(layers.BatchNormalization())\n",
        "model3.add(layers.Conv2D(32, (3,3), activation='relu', input_shape=(32,32,3)))\n",
        "model3.add(layers.MaxPooling2D((2, 2)))\n",
        "model3.add(layers.Conv2D(64, (6,6), activation='relu'))\n",
        "model3.add(layers.MaxPooling2D((2, 2)))\n",
        "model3.add(layers.Flatten())\n",
        "model3.add(layers.Dense(256, activation=\"relu\"))\n",
        "model3.add(layers.Dense(10, activation=\"softmax\"))\n",
        "\n",
        "model3.compile(optimizer = 'adam',\n",
        "              loss='categorical_crossentropy',\n",
        "              metrics=[\"accuracy\"])\n",
        "\n",
        "history3 = model3.fit(x_tr, y_tr, batch_size=128, epochs=15, validation_data=(x_val, y_val))"
      ],
      "metadata": {
        "colab": {
          "base_uri": "https://localhost:8080/"
        },
        "id": "8h3YLvUvDqL8",
        "outputId": "90b64293-2f1f-4bb7-fc72-9dcb82f6920a"
      },
      "execution_count": 34,
      "outputs": [
        {
          "output_type": "stream",
          "name": "stdout",
          "text": [
            "Epoch 1/15\n",
            "313/313 [==============================] - 3s 9ms/step - loss: 0.0557 - accuracy: 0.9811 - val_loss: 2.4096 - val_accuracy: 0.7008\n",
            "Epoch 2/15\n",
            "313/313 [==============================] - 2s 7ms/step - loss: 0.0398 - accuracy: 0.9867 - val_loss: 2.5583 - val_accuracy: 0.6980\n",
            "Epoch 3/15\n",
            "313/313 [==============================] - 2s 7ms/step - loss: 0.0501 - accuracy: 0.9827 - val_loss: 2.5833 - val_accuracy: 0.6982\n",
            "Epoch 4/15\n",
            "313/313 [==============================] - 2s 7ms/step - loss: 0.0591 - accuracy: 0.9806 - val_loss: 2.4712 - val_accuracy: 0.6954\n",
            "Epoch 5/15\n",
            "313/313 [==============================] - 2s 7ms/step - loss: 0.0559 - accuracy: 0.9807 - val_loss: 2.6397 - val_accuracy: 0.6924\n",
            "Epoch 6/15\n",
            "313/313 [==============================] - 2s 7ms/step - loss: 0.0349 - accuracy: 0.9887 - val_loss: 2.5430 - val_accuracy: 0.7011\n",
            "Epoch 7/15\n",
            "313/313 [==============================] - 2s 8ms/step - loss: 0.0285 - accuracy: 0.9907 - val_loss: 2.6906 - val_accuracy: 0.7004\n",
            "Epoch 8/15\n",
            "313/313 [==============================] - 2s 7ms/step - loss: 0.0528 - accuracy: 0.9829 - val_loss: 2.7492 - val_accuracy: 0.6961\n",
            "Epoch 9/15\n",
            "313/313 [==============================] - 2s 7ms/step - loss: 0.0458 - accuracy: 0.9849 - val_loss: 2.7367 - val_accuracy: 0.6960\n",
            "Epoch 10/15\n",
            "313/313 [==============================] - 2s 7ms/step - loss: 0.0588 - accuracy: 0.9813 - val_loss: 2.7236 - val_accuracy: 0.6930\n",
            "Epoch 11/15\n",
            "313/313 [==============================] - 2s 7ms/step - loss: 0.0452 - accuracy: 0.9851 - val_loss: 2.6735 - val_accuracy: 0.7025\n",
            "Epoch 12/15\n",
            "313/313 [==============================] - 3s 9ms/step - loss: 0.0277 - accuracy: 0.9911 - val_loss: 2.8450 - val_accuracy: 0.6926\n",
            "Epoch 13/15\n",
            "313/313 [==============================] - 2s 7ms/step - loss: 0.0424 - accuracy: 0.9868 - val_loss: 2.7823 - val_accuracy: 0.6946\n",
            "Epoch 14/15\n",
            "313/313 [==============================] - 2s 7ms/step - loss: 0.0461 - accuracy: 0.9843 - val_loss: 2.7883 - val_accuracy: 0.6949\n",
            "Epoch 15/15\n",
            "313/313 [==============================] - 2s 7ms/step - loss: 0.0379 - accuracy: 0.9875 - val_loss: 2.8718 - val_accuracy: 0.6958\n"
          ]
        }
      ]
    },
    {
      "cell_type": "code",
      "source": [
        "# Plot the loss curve\n",
        "import matplotlib.pyplot as plt\n",
        "%matplotlib inline \n",
        "#Makes it so plot is only dependent on this block\n",
        "\n",
        "epochs = range(15)\n",
        "print(history3.history.keys())\n",
        "train_acc = history3.history['loss']\n",
        "valid_acc = history3.history['val_loss']\n",
        "plt.plot(epochs, train_acc, 'bo', label=\"Training loss\")\n",
        "plt.plot(epochs, valid_acc, 'r', label=\"Validation loss\")\n",
        "plt.xlabel('Epochs')\n",
        "plt.ylabel('Loss')\n",
        "plt.legend()\n",
        "plt.show()"
      ],
      "metadata": {
        "colab": {
          "base_uri": "https://localhost:8080/",
          "height": 470
        },
        "id": "uLWI3DB5FeCe",
        "outputId": "ee504983-d953-4821-c5d0-e1ae58a9e2e1"
      },
      "execution_count": 35,
      "outputs": [
        {
          "output_type": "stream",
          "name": "stdout",
          "text": [
            "dict_keys(['loss', 'accuracy', 'val_loss', 'val_accuracy'])\n"
          ]
        },
        {
          "output_type": "display_data",
          "data": {
            "text/plain": [
              "<Figure size 640x480 with 1 Axes>"
            ],
            "image/png": "[encoded data removed]"
          },
          "metadata": {}
        }
      ]
    },
    {
      "cell_type": "code",
      "source": [
        "model3.fit(x_train, y_train_vec, epochs=15, batch_size=128)"
      ],
      "metadata": {
        "colab": {
          "base_uri": "https://localhost:8080/"
        },
        "id": "HOMmp7bVGGVC",
        "outputId": "a7337efa-2531-4349-a31e-2bdaab0f1503"
      },
      "execution_count": 36,
      "outputs": [
        {
          "output_type": "stream",
          "name": "stdout",
          "text": [
            "Epoch 1/15\n",
            "391/391 [==============================] - 4s 6ms/step - loss: 1.3820 - accuracy: 0.5061\n",
            "Epoch 2/15\n",
            "391/391 [==============================] - 2s 6ms/step - loss: 0.9956 - accuracy: 0.6530\n",
            "Epoch 3/15\n",
            "391/391 [==============================] - 3s 7ms/step - loss: 0.8513 - accuracy: 0.7038\n",
            "Epoch 4/15\n",
            "391/391 [==============================] - 2s 6ms/step - loss: 0.7410 - accuracy: 0.7414\n",
            "Epoch 5/15\n",
            "391/391 [==============================] - 2s 6ms/step - loss: 0.6496 - accuracy: 0.7726\n",
            "Epoch 6/15\n",
            "391/391 [==============================] - 2s 6ms/step - loss: 0.5685 - accuracy: 0.8017\n",
            "Epoch 7/15\n",
            "391/391 [==============================] - 2s 6ms/step - loss: 0.4869 - accuracy: 0.8290\n",
            "Epoch 8/15\n",
            "391/391 [==============================] - 3s 7ms/step - loss: 0.4135 - accuracy: 0.8571\n",
            "Epoch 9/15\n",
            "391/391 [==============================] - 2s 6ms/step - loss: 0.3466 - accuracy: 0.8782\n",
            "Epoch 10/15\n",
            "391/391 [==============================] - 2s 6ms/step - loss: 0.2835 - accuracy: 0.9021\n",
            "Epoch 11/15\n",
            "391/391 [==============================] - 2s 6ms/step - loss: 0.2337 - accuracy: 0.9186\n",
            "Epoch 12/15\n",
            "391/391 [==============================] - 2s 6ms/step - loss: 0.1836 - accuracy: 0.9370\n",
            "Epoch 13/15\n",
            "391/391 [==============================] - 3s 7ms/step - loss: 0.1497 - accuracy: 0.9481\n",
            "Epoch 14/15\n",
            "391/391 [==============================] - 2s 6ms/step - loss: 0.1237 - accuracy: 0.9577\n",
            "Epoch 15/15\n",
            "391/391 [==============================] - 2s 6ms/step - loss: 0.1097 - accuracy: 0.9624\n"
          ]
        },
        {
          "output_type": "execute_result",
          "data": {
            "text/plain": [
              "<keras.callbacks.History at 0x7f4124100760>"
            ]
          },
          "metadata": {},
          "execution_count": 36
        }
      ]
    },
    {
      "cell_type": "code",
      "source": [
        "loss_and_acc3 = model3.evaluate(x_test, y_test_vec)"
      ],
      "metadata": {
        "colab": {
          "base_uri": "https://localhost:8080/"
        },
        "id": "VnK3tUXaGq4M",
        "outputId": "8d79da0c-66d6-43be-b643-554736a58a81"
      },
      "execution_count": 37,
      "outputs": [
        {
          "output_type": "stream",
          "name": "stdout",
          "text": [
            "313/313 [==============================] - 1s 3ms/step - loss: 1.4768 - accuracy: 0.7139\n"
          ]
        }
      ]
    },
    {
      "cell_type": "code",
      "source": [
        "# Idea3: Remove layer\n",
        "model4 = models.Sequential()\n",
        "model4.add(layers.BatchNormalization())\n",
        "model4.add(layers.Conv2D(32, (3,3), activation='relu', input_shape=(32,32,3)))\n",
        "model4.add(layers.MaxPooling2D((2, 2)))\n",
        "model4.add(layers.Flatten())\n",
        "model4.add(layers.Dense(256, activation=\"relu\"))\n",
        "model4.add(layers.Dense(10, activation=\"softmax\"))\n",
        "\n",
        "model4.compile(optimizer = 'adam',\n",
        "              loss='categorical_crossentropy',\n",
        "              metrics=[\"accuracy\"])\n",
        "\n",
        "history4 = model4.fit(x_train, y_train_vec, batch_size=128, epochs=15)"
      ],
      "metadata": {
        "colab": {
          "base_uri": "https://localhost:8080/"
        },
        "id": "JYug3ksdI_oC",
        "outputId": "31702866-297b-4f18-d1c7-595283e56c64"
      },
      "execution_count": 43,
      "outputs": [
        {
          "output_type": "stream",
          "name": "stdout",
          "text": [
            "Epoch 1/15\n",
            "391/391 [==============================] - 3s 5ms/step - loss: 1.4232 - accuracy: 0.5005\n",
            "Epoch 2/15\n",
            "391/391 [==============================] - 2s 5ms/step - loss: 1.0719 - accuracy: 0.6245\n",
            "Epoch 3/15\n",
            "391/391 [==============================] - 2s 6ms/step - loss: 0.9321 - accuracy: 0.6765\n",
            "Epoch 4/15\n",
            "391/391 [==============================] - 2s 5ms/step - loss: 0.8283 - accuracy: 0.7124\n",
            "Epoch 5/15\n",
            "391/391 [==============================] - 2s 5ms/step - loss: 0.7490 - accuracy: 0.7378\n",
            "Epoch 6/15\n",
            "391/391 [==============================] - 2s 5ms/step - loss: 0.6706 - accuracy: 0.7679\n",
            "Epoch 7/15\n",
            "391/391 [==============================] - 2s 5ms/step - loss: 0.6115 - accuracy: 0.7872\n",
            "Epoch 8/15\n",
            "391/391 [==============================] - 2s 5ms/step - loss: 0.5421 - accuracy: 0.8118\n",
            "Epoch 9/15\n",
            "391/391 [==============================] - 3s 6ms/step - loss: 0.4854 - accuracy: 0.8305\n",
            "Epoch 10/15\n",
            "391/391 [==============================] - 2s 6ms/step - loss: 0.4251 - accuracy: 0.8511\n",
            "Epoch 11/15\n",
            "391/391 [==============================] - 2s 5ms/step - loss: 0.3679 - accuracy: 0.8734\n",
            "Epoch 12/15\n",
            "391/391 [==============================] - 2s 5ms/step - loss: 0.3197 - accuracy: 0.8918\n",
            "Epoch 13/15\n",
            "391/391 [==============================] - 2s 5ms/step - loss: 0.2837 - accuracy: 0.9029\n",
            "Epoch 14/15\n",
            "391/391 [==============================] - 2s 5ms/step - loss: 0.2270 - accuracy: 0.9231\n",
            "Epoch 15/15\n",
            "391/391 [==============================] - 2s 6ms/step - loss: 0.1933 - accuracy: 0.9355\n"
          ]
        }
      ]
    },
    {
      "cell_type": "code",
      "source": [
        "# Plot the loss curve\n",
        "import matplotlib.pyplot as plt\n",
        "%matplotlib inline \n",
        "#Makes it so plot is only dependent on this block\n",
        "\n",
        "epochs = range(15)\n",
        "print(history3.history.keys())\n",
        "train_acc = history3.history['loss']\n",
        "valid_acc = history3.history['val_loss']\n",
        "plt.plot(epochs, train_acc, 'bo', label=\"Training loss\")\n",
        "plt.plot(epochs, valid_acc, 'r', label=\"Validation loss\")\n",
        "plt.xlabel('Epochs')\n",
        "plt.ylabel('Loss')\n",
        "plt.legend()\n",
        "plt.show()"
      ],
      "metadata": {
        "colab": {
          "base_uri": "https://localhost:8080/",
          "height": 470
        },
        "id": "VqNCxaEPJdr7",
        "outputId": "beca1e78-8115-4916-e0d8-7277f3d73a85"
      },
      "execution_count": 42,
      "outputs": [
        {
          "output_type": "stream",
          "name": "stdout",
          "text": [
            "dict_keys(['loss', 'accuracy', 'val_loss', 'val_accuracy'])\n"
          ]
        },
        {
          "output_type": "display_data",
          "data": {
            "text/plain": [
              "<Figure size 640x480 with 1 Axes>"
            ],
            "image/png": "[encoded data removed]"
          },
          "metadata": {}
        }
      ]
    },
    {
      "cell_type": "code",
      "source": [
        "model4.evaluate(x_test, y_test_vec)"
      ],
      "metadata": {
        "colab": {
          "base_uri": "https://localhost:8080/"
        },
        "id": "xof9FuJTJkYJ",
        "outputId": "ec5daa5f-a5cc-4da5-8d83-30dfd236bd4b"
      },
      "execution_count": 44,
      "outputs": [
        {
          "output_type": "stream",
          "name": "stdout",
          "text": [
            "313/313 [==============================] - 1s 4ms/step - loss: 1.5885 - accuracy: 0.6505\n"
          ]
        },
        {
          "output_type": "execute_result",
          "data": {
            "text/plain": [
              "[1.588532567024231, 0.6504999995231628]"
            ]
          },
          "metadata": {},
          "execution_count": 44
        }
      ]
    }
  ],
  "metadata": {
    "colab": {
      "provenance": []
    },
    "kernelspec": {
      "display_name": "Python 3",
      "language": "python",
      "name": "python3"
    },
    "language_info": {
      "codemirror_mode": {
        "name": "ipython",
        "version": 3
      },
      "file_extension": ".py",
      "mimetype": "text/x-python",
      "name": "python",
      "nbconvert_exporter": "python",
      "pygments_lexer": "ipython3",
      "version": "3.8.8"
    },
    "accelerator": "GPU",
    "gpuClass": "standard"
  },
  "nbformat": 4,
  "nbformat_minor": 0
}